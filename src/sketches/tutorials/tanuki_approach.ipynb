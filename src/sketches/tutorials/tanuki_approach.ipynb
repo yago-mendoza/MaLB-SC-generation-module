{
 "cells": [
  {
   "cell_type": "code",
   "execution_count": 1,
   "metadata": {},
   "outputs": [
    {
     "name": "stderr",
     "output_type": "stream",
     "text": [
      "g:\\Mi unidad\\SONY-GATEWAY\\MaLB-SC-generation-module\\.venv\\Lib\\site-packages\\tqdm\\auto.py:21: TqdmWarning: IProgress not found. Please update jupyter and ipywidgets. See https://ipywidgets.readthedocs.io/en/stable/user_install.html\n",
      "  from .autonotebook import tqdm as notebook_tqdm\n"
     ]
    }
   ],
   "source": [
    "import dspy\n",
    "from dspy.functional import FunctionalModule, predictor, cot"
   ]
  },
  {
   "cell_type": "code",
   "execution_count": 3,
   "metadata": {},
   "outputs": [],
   "source": [
    "gpt3_turbo = dspy.OpenAI(model='gpt-3.5-turbo-1106', max_tokens=300, temperature=1)\n",
    "dspy.settings.configure(lm=gpt3_turbo, max_tokens=1024)"
   ]
  },
  {
   "cell_type": "code",
   "execution_count": 5,
   "metadata": {},
   "outputs": [],
   "source": [
    "class MyModule(FunctionalModule):\n",
    "    @predictor\n",
    "    def hard_question(possible_topics: list[str]) -> str:\n",
    "        \"\"\"Write a hard question based on one of the topics. It should be answerable by a number.\"\"\"\n",
    "\n",
    "    @cot\n",
    "    def answer(question: str) -> float:\n",
    "        pass\n",
    "\n",
    "    def forward(possible_topics: list[str]):\n",
    "        q = hard_question(possible_topics=possible_topics)\n",
    "        a = answer(question=q)\n",
    "        return (q, a)\n",
    "\n",
    "print(MyModule.forward(['Gravedad cero','La Lista de Schindler','Abejas soldado']))"
   ]
  }
 ],
 "metadata": {
  "kernelspec": {
   "display_name": ".venv",
   "language": "python",
   "name": "python3"
  },
  "language_info": {
   "codemirror_mode": {
    "name": "ipython",
    "version": 3
   },
   "file_extension": ".py",
   "mimetype": "text/x-python",
   "name": "python",
   "nbconvert_exporter": "python",
   "pygments_lexer": "ipython3",
   "version": "3.11.1"
  }
 },
 "nbformat": 4,
 "nbformat_minor": 2
}
