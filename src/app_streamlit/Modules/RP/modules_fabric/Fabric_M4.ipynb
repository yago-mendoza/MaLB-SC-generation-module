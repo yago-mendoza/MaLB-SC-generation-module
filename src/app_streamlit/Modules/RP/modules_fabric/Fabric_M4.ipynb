{
 "cells": [
  {
   "cell_type": "code",
   "execution_count": 1,
   "metadata": {},
   "outputs": [],
   "source": [
    "import dspy\n",
    "import pprint\n",
    "from typing import List, Union"
   ]
  },
  {
   "cell_type": "code",
   "execution_count": 2,
   "metadata": {},
   "outputs": [],
   "source": [
    "# Configure pprint\n",
    "pp = pprint.pprint\n",
    "\n",
    "# Set up OpenAI models\n",
    "gpt4_turbo = dspy.OpenAI(model='gpt-4-1106-preview', max_tokens=300)\n",
    "gpt3_turbo = dspy.OpenAI(model='gpt-3.5-turbo-1106', max_tokens=300, temperature=1)\n",
    "\n",
    "# Configure dspy settings\n",
    "dspy.settings.configure(lm=gpt3_turbo, max_tokens=1024)"
   ]
  },
  {
   "cell_type": "markdown",
   "metadata": {},
   "source": [
    "# Updating the core description"
   ]
  },
  {
   "cell_type": "code",
   "execution_count": 3,
   "metadata": {},
   "outputs": [],
   "source": [
    "class is_collaborative(dspy.Signature):\n",
    "    \"\"\"Is the person trying to provide a collaborative answer to the question?\"\"\"\n",
    "    question: str = dspy.InputField(desc=\"Question\")\n",
    "    answer: str = dspy.InputField(desc=\"The person's answer\")\n",
    "    assessment: bool = dspy.OutputField(desc=\"Is the answer being provided collaborative?\")\n",
    "\n",
    "class IsCollaborative(dspy.Module):\n",
    "    \"\"\"A module that decides whether the person is trying to provide a collaborative answer to the question?\"\"\"\n",
    "    def __init__(self):\n",
    "        super().__init__()\n",
    "        self.generate_answer = dspy.functional.TypedChainOfThought(is_collaborative)\n",
    "\n",
    "    def forward(self, question: str, answer: str) -> bool:\n",
    "        return self.generate_answer(question=question, answer=answer)"
   ]
  },
  {
   "cell_type": "code",
   "execution_count": 9,
   "metadata": {},
   "outputs": [
    {
     "data": {
      "text/plain": [
       "Prediction(\n",
       "    reasoning='produce the assessment. We need to consider the details of the ticket sales process, including user limitations, phases, and compensation in case of cancellation.',\n",
       "    assessment=True\n",
       ")"
      ]
     },
     "execution_count": 9,
     "metadata": {},
     "output_type": "execute_result"
    }
   ],
   "source": [
    "# Buscamos False\n",
    "\n",
    "class choose_best (dspy.Signature):\n",
    "    \"\"\"Choose the better description in terms of coherence, completeness of information and technicality.\"\"\"\n",
    "    description_a: str = dspy.InputField(desc=\"Description A\")\n",
    "    description_b: str = dspy.InputField(desc=\"Description B\")\n",
    "    assessment: bool = dspy.OutputField(desc=\"True if 'A' is more extense than 'B'\")\n",
    "class ChooseBest(dspy.Module):\n",
    "    \"\"\"A module that chooses the better description in terms of coherence, completeness of information and technicality.\"\"\"\n",
    "    def __init__(self):\n",
    "        super().__init__()\n",
    "        self.generate_answer = dspy.functional.TypedChainOfThought(choose_best)\n",
    "\n",
    "    def forward(self, description_a: str, description_b: str) -> bool:\n",
    "        answer = self.generate_answer(description_a=description_a, description_b=description_b)\n",
    "        return answer\n",
    "    \n",
    "\n",
    "a = \"\"\"The contract has to manage 50,000 tokens available for a concert, with each token representing one ticket. Users are limited to purchasing one ticket each, but those with Golden status can buy up to three tickets to transfer to other users. The ticket sales are divided into two phases. The first phase lasts for 5 minutes, and the second phase is triggered one week after the first one ends. If the event is cancelled, compensation includes an extra 25% for Golden ticket holders, 5% for Platinum, and no extra compensation for Bronze ticket holders.\"\"\"\n",
    "b = \"\"\"The smart contract manages the sale of 50,000 tokens for a concert, where each token represents one ticket. Users can purchase one ticket each, while Golden status users can buy up to three tickets to transfer to others. The ticket sales consist of two phases. If all 50,000 tokens are sold before the first 5-minute phase ends, the second phase starts immediately. There is no deadline for Golden users to transfer tickets, but transfers must be completed before the concert. In case of event cancellation, compensation is calculated and distributed automatically based on the original purchase price. Refunds for Golden ticket holders include an extra 25%, 5% for Platinum holders, and no extra for Bronze. Unsold tickets after \n",
    "both phases are returned to the issuer for potential recycling or re-release.\"\"\"\n",
    "ChooseBest().forward(description_a = a,\n",
    "                     description_b = b)"
   ]
  },
  {
   "cell_type": "code",
   "execution_count": null,
   "metadata": {},
   "outputs": [],
   "source": []
  },
  {
   "cell_type": "code",
   "execution_count": 108,
   "metadata": {},
   "outputs": [
    {
     "data": {
      "text/plain": [
       "Prediction(\n",
       "    reasoning=\"produce the new description. We need to correct the voting process by ensuring it's clear that each fan gets only one vote per decision, not two as previously mentioned. We also need to maintain the other requirements such as the transparency of the system, the storage of results on the blockchain, the admin's ability to create and execute proposals, and the system's capacity to handle up to 20 votes and 40 proposals per day. Finally, we must format the new description as a JSON object according to the provided schema.\",\n",
       "    new_description=['We aim to develop a decentralized voting system exclusively for fans to vote on various platform-related decisions. Each fan is entitled to a single vote per decision. The system will ensure transparency by recording the results on the blockchain. Administrators will have the capability to generate proposals and implement them post-voting. The system is designed to accommodate up to 20 votes and 40 proposals daily.']\n",
       ")"
      ]
     },
     "execution_count": 108,
     "metadata": {},
     "output_type": "execute_result"
    }
   ],
   "source": [
    "class update_description(dspy.Signature):\n",
    "    \"\"\"Does minor changes to correct the description seamlessly.\"\"\"\n",
    "    old_description: str = dspy.InputField(desc=\"Original Smart Contract description\")\n",
    "    question: str = dspy.InputField(desc=\"A question to further polish the description\")\n",
    "    answer: str = dspy.InputField(desc=\"The answer provided by the client\")\n",
    "    new_description: List[str] = dspy.OutputField(desc=\"The newly writen description\")\n",
    "\n",
    "class UpdateDescription(dspy.Module):\n",
    "    \"\"\"A module that does minor changes to correct the description seamlessly.\"\"\"\n",
    "    def __init__(self, **kwargs):\n",
    "        super().__init__()\n",
    "        self.kwargs = kwargs\n",
    "        self.generate_answer = dspy.functional.TypedChainOfThought(update_description)\n",
    "\n",
    "    def forward(self) -> str:\n",
    "        return self.generate_answer(**self.kwargs)\n",
    "\n",
    "old_description = \"We want to create a decentralized voting system where fans and nobody else can vote on various decisions related to our platform. Each fan gets one vote per decision. We want the system to be transparent, the results should be stored on the blockchain. The admin should be able to create proposals and execute them once each fan has voted two times. The system should be able to handle up to 20 votes per day. The system should be able to handle up to 40 proposals per day\"\n",
    "question = \"Could you clarify the voting process? You mentioned each fan gets one vote per decision, but also that the admin expects each fan to vote twice. How does this work?\"\n",
    "answer = \"You are right, I made a mistake. Fans only get one vote.\"\n",
    "\n",
    "updated_description = UpdateDescription(old_description=old_description,\n",
    "                                        question=question,\n",
    "                                        answer=answer).forward()\n",
    "updated_description"
   ]
  },
  {
   "cell_type": "code",
   "execution_count": 93,
   "metadata": {},
   "outputs": [],
   "source": [
    "# class summarize(dspy.Signature):\n",
    "#     \"\"\"Express the text in a conciser way, without overexplaining.\"\"\"\n",
    "#     text: str = dspy.InputField(desc=\"Some text to summarize\")\n",
    "#     formated_text: str = dspy.OutputField(desc=\"More concise text\")\n",
    "\n",
    "# class Summarize(dspy.Module):\n",
    "#     \"\"\"Express the text in a conciser way. Do not overexplain.\"\"\"\n",
    "#     def __init__(self):\n",
    "#         super().__init__()\n",
    "#         self.generate_answer = dspy.functional.TypedPredictor(summarize)\n",
    "#     def forward(self, text: str) -> str:\n",
    "#         return self.generate_answer(text=text)"
   ]
  },
  {
   "cell_type": "code",
   "execution_count": 7,
   "metadata": {},
   "outputs": [
    {
     "data": {
      "text/plain": [
       "[]"
      ]
     },
     "execution_count": 7,
     "metadata": {},
     "output_type": "execute_result"
    }
   ],
   "source": [
    "# GPT4 recommended\n",
    "\n",
    "prompt = \"We want to create a decentralized voting system where fans and nobody else can vote on various decisions related to our platform. Each fan gets one vote per decision. We want the system to be transparent, the results should be stored on the blockchain. The admin should be able to create proposals and execute them once each fan has voted two times. The system should be able to handle up to 20 votes per day. The system should be able to handle up to 40 proposals\"\n",
    "\n",
    "class find_incoherences(dspy.Signature):\n",
    "    \"\"\"List incoherences, oddities or discrepancies in a Smart Contract Description\"\"\"\n",
    "    smart_contract_description: str = dspy.InputField(desc=\"A description of a Smart Contract\")\n",
    "    incoherences: List[str] = dspy.OutputField(desc=\"List of incoherences (one per slot, empty if none)\")\n",
    "\n",
    "class FindIncoherences(dspy.Module):\n",
    "    \"\"\"A module to list incoherences, oddities or discrepancies in a Smart Contract Description\"\"\"\n",
    "    def __init__(self):\n",
    "        super().__init__()\n",
    "        self.generate_answer = dspy.functional.TypedPredictor(find_incoherences)\n",
    "\n",
    "    def forward(self, smart_contract_description: str) -> List[str]:\n",
    "        return self.generate_answer(smart_contract_description=smart_contract_description)\n",
    "\n",
    "incoherences = FindIncoherences().forward(smart_contract_description=prompt).incoherences\n",
    "incoherences"
   ]
  },
  {
   "cell_type": "code",
   "execution_count": 120,
   "metadata": {},
   "outputs": [
    {
     "name": "stdout",
     "output_type": "stream",
     "text": [
      "Incoherence: Each fan gets one vote per decision, but the admin expects each fan to vote two times.\n",
      "   Question: Could you clarify the voting process? You mentioned each fan gets one vote per decision, but also that the admin expects each fan to vote twice. How does this work?\n",
      "Incoherence: The system's capacity is mismatched: it can handle 20 votes per day but needs to support up to 40 proposals per day.\n",
      "   Question: Could you clarify the voting process? You mentioned each fan gets one vote per decision, but also that the admin expects each fan to vote twice. How does this work?\n"
     ]
    }
   ],
   "source": [
    "class inquire_about_incoherence(dspy.Signature):\n",
    "    \"\"\"\n",
    "    Spots an incoherence and asks for clarification.\n",
    "    Keep it as short as possible.\n",
    "    \"\"\"\n",
    "    smart_contract_description: str = dspy.InputField(desc=\"A description of a Smmart Contract\")\n",
    "    specific_incoherence: str = dspy.InputField(desc=\"The incohrence to be clarified\")\n",
    "    conversational_question: str = dspy.OutputField(desc=\"A question formulated targeting the incoherence\")\n",
    "\n",
    "class InquireAboutIncoherence(dspy.Module):\n",
    "    \"\"\"\n",
    "    Spots an incoherence and asks for clarification.\n",
    "    Keep it as short as possible.\n",
    "    \"\"\"\n",
    "    def __init__(self):\n",
    "        super().__init__()\n",
    "        self.generate_answer = dspy.functional.TypedPredictor(inquire_about_incoherence)\n",
    "        \n",
    "    def forward(self, smart_contract_description: str, specific_incoherence: str) -> str:\n",
    "        return self.generate_answer(smart_contract_description=smart_contract_description, specific_incoherence=specific_incoherence)\n",
    "\n",
    "qs = []\n",
    "for incoherence in incoherences:\n",
    "    print(f\"Incoherence: {incoherence}\")\n",
    "    q = InquireAboutIncoherence().forward(smart_contract_description=prompt, specific_incoherence=incoherence)\n",
    "    print(f\"   Question: {q}\")\n",
    "    qs.append(q)\n"
   ]
  },
  {
   "cell_type": "code",
   "execution_count": 127,
   "metadata": {},
   "outputs": [
    {
     "data": {
      "text/plain": [
       "Prediction(\n",
       "    conversational_question='Conversational Question: Could you clarify the requirement for each fan to vote \"two times\" on a proposal? Does this mean they are allowed to change their vote once, or are there two rounds of voting for each proposal, and what is the intended mechanism to ensure a fan votes exactly twice before the admin can execute the proposal?'\n",
       ")"
      ]
     },
     "execution_count": 127,
     "metadata": {},
     "output_type": "execute_result"
    }
   ],
   "source": [
    "class inquire_insights(dspy.Signature):\n",
    "    \"\"\"\n",
    "    Make a single specific question to further dig into the technical aspects of the description.\n",
    "    You can ask for clarifications, details, measures and/or concrete digits.\n",
    "    Provide possible solutions whenever possible.\n",
    "    \"\"\"\n",
    "    smart_contract_description: str = dspy.InputField(desc=\"A description of a Smmart Contract\")\n",
    "    conversational_question: str = dspy.OutputField(desc=\"A single question targeting technical aspects\")\n",
    "\n",
    "class InquireInsights(dspy.Module):\n",
    "    def __init__(self):\n",
    "        super().__init__()\n",
    "        self.generate_answer = dspy.functional.TypedPredictor(inquire_insights)\n",
    "        \n",
    "    def forward(self, smart_contract_description: str) -> str:\n",
    "        return self.generate_answer(smart_contract_description=smart_contract_description)\n",
    "    \n",
    "InquireInsights().forward(smart_contract_description=prompt)"
   ]
  },
  {
   "cell_type": "code",
   "execution_count": null,
   "metadata": {},
   "outputs": [],
   "source": []
  }
 ],
 "metadata": {
  "kernelspec": {
   "display_name": ".venv",
   "language": "python",
   "name": "python3"
  },
  "language_info": {
   "codemirror_mode": {
    "name": "ipython",
    "version": 3
   },
   "file_extension": ".py",
   "mimetype": "text/x-python",
   "name": "python",
   "nbconvert_exporter": "python",
   "pygments_lexer": "ipython3",
   "version": "3.11.1"
  }
 },
 "nbformat": 4,
 "nbformat_minor": 2
}
