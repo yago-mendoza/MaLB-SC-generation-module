{
 "cells": [
  {
   "cell_type": "code",
   "execution_count": 46,
   "metadata": {},
   "outputs": [],
   "source": [
    "import dspy\n",
    "import numpy as np\n",
    "\n",
    "import pprint\n",
    "pprint = pprint.PrettyPrinter(indent=4).pprint\n",
    "\n",
    "turbo = dspy.OpenAI(model=\"gpt-3.5-turbo\", max_tokens=1000)\n",
    "dspy.settings.configure(lm=turbo)"
   ]
  },
  {
   "cell_type": "markdown",
   "metadata": {},
   "source": [
    "# Setting our Examples"
   ]
  },
  {
   "cell_type": "code",
   "execution_count": 47,
   "metadata": {},
   "outputs": [
    {
     "name": "stdout",
     "output_type": "stream",
     "text": [
      "List of 'examples' for training: \n",
      "[   Example({'grug_text': 'is free country sort of and end of day not really matter too much, but grug hope you fun reading and maybe learn from\\nmany, many mistake grug make over long program life', 'plain_english': \"It's okay, it's a free country, and in the end, it doesn't matter much, but Grug hopes you have fun reading and learn from his mistakes.\"}) (input_keys={'plain_english'}),\n",
      "    Example({'grug_text': 'THINK they are big brained developers many, many more, and more even definitely probably maybe not like this, many\\nsour face (such is internet)', 'plain_english': 'Many experienced developers might not like this, and will probably make a sour face on the internet.'}) (input_keys={'plain_english'}),\n",
      "    Example({'grug_text': 'big brained developers are many, and some not expected to like this, make sour face', 'plain_english': 'Some experienced developers might not like this, and might make a sour face.'}) (input_keys={'plain_english'}),\n",
      "    Example({'grug_text': 'apex predator of grug is complexity', 'plain_english': \"Grug's biggest enemy is complexity.\"}) (input_keys={'plain_english'}),\n",
      "    Example({'grug_text': 'grug brain developer not so smart, but grug brain developer program many long year and learn some things\\nalthough mostly still confused', 'plain_english': 'Grug Brain is not a genius, but has programmed for a long time and learned some things, although still often confused.'}) (input_keys={'plain_english'}),\n",
      "    Example({'grug_text': '(note: grug once think big brained but learn hard way)', 'plain_english': \"Grug used to think he was smart, but learned the hard way that he's not.\"}) (input_keys={'plain_english'})]\n",
      "\n",
      "List of 'examples' for testing: \n",
      "[   Example({'grug_text': 'this collection of thoughts on software development gathered by grug brain developer', 'plain_english': 'A collection of thoughts on software development gathered by a developer named Grug Brain.'}) (input_keys={'plain_english'}),\n",
      "    Example({'grug_text': 'is fine!', 'plain_english': 'It is fine.'}) (input_keys={'plain_english'}),\n",
      "    Example({'grug_text': 'complexity bad', 'plain_english': 'Complexity is bad.'}) (input_keys={'plain_english'}),\n",
      "    Example({'grug_text': 'grug brain developer try collect learns into small, easily digestible and funny page, not only for you, the young grug, but also for him\\nbecause as grug brain developer get older he forget important things, like what had for breakfast or if put pants on', 'plain_english': 'Grug Brain is trying to collect his learnings into a short, funny, and easy-to-read page for both himself and others.'}) (input_keys={'plain_english'})]\n"
     ]
    }
   ],
   "source": [
    "grug_text_sentences = [\n",
    "    'this collection of thoughts on software development gathered by grug brain developer',\n",
    "    'grug brain developer not so smart, but grug brain developer program many long year and learn some things\\nalthough mostly still confused',\n",
    "    'grug brain developer try collect learns into small, easily digestible and funny page, not only for you, the young grug, but also for him\\nbecause as grug brain developer get older he forget important things, like what had for breakfast or if put pants on',\n",
    "    'big brained developers are many, and some not expected to like this, make sour face',\n",
    "    'THINK they are big brained developers many, many more, and more even definitely probably maybe not like this, many\\nsour face (such is internet)',\n",
    "    '(note: grug once think big brained but learn hard way)',\n",
    "    'is fine!',\n",
    "    'is free country sort of and end of day not really matter too much, but grug hope you fun reading and maybe learn from\\nmany, many mistake grug make over long program life',\n",
    "    'apex predator of grug is complexity',\n",
    "    'complexity bad'\n",
    " ]\n",
    "\n",
    "plain_english_translations = [\n",
    "    \"A collection of thoughts on software development gathered by a developer named Grug Brain.\",\n",
    "    \"Grug Brain is not a genius, but has programmed for a long time and learned some things, although still often confused.\",\n",
    "    \"Grug Brain is trying to collect his learnings into a short, funny, and easy-to-read page for both himself and others.\",\n",
    "    \"Some experienced developers might not like this, and might make a sour face.\",\n",
    "    \"Many experienced developers might not like this, and will probably make a sour face on the internet.\",\n",
    "    \"Grug used to think he was smart, but learned the hard way that he's not.\",\n",
    "    \"It is fine.\",\n",
    "    \"It's okay, it's a free country, and in the end, it doesn't matter much, but Grug hopes you have fun reading and learn from his mistakes.\",\n",
    "    \"Grug's biggest enemy is complexity.\",\n",
    "    \"Complexity is bad.\"\n",
    "]\n",
    "\n",
    "dataset = []\n",
    "for i in range(len(grug_text_sentences)):\n",
    "    grug_sentence = grug_text_sentences[i]\n",
    "    translated_sentence = plain_english_translations[i]\n",
    "    dataset.append({\"grug_text\":grug_sentence, \"plain_english\":translated_sentence})\n",
    "    \n",
    "examples = [] # List[dspy.Example]\n",
    "for pair in dataset:\n",
    "    examples.append(\n",
    "        dspy.Example(\n",
    "            grug_text=pair[\"grug_text\"],\n",
    "            plain_english=pair[\"plain_english\"]\n",
    "            ).with_inputs(\"plain_english\")\n",
    "        )\n",
    "\n",
    "# Divide train & test\n",
    "def split_for_train_test(values, test_size=1/3.0):\n",
    "    np.random.shuffle(values)\n",
    "    split = int(len(values) * (1 - test_size))\n",
    "    return values[:split], values[split:]\n",
    "\n",
    "examples_for_training, examples_for_testing = split_for_train_test(examples)\n",
    "\n",
    "print(\"List of 'examples' for training: \")\n",
    "pprint(examples_for_training)\n",
    "print(\"\\nList of 'examples' for testing: \")\n",
    "pprint(examples_for_testing)\n"
   ]
  },
  {
   "cell_type": "markdown",
   "metadata": {},
   "source": [
    "# Signatures"
   ]
  },
  {
   "cell_type": "code",
   "execution_count": 48,
   "metadata": {},
   "outputs": [],
   "source": [
    "class GrugSignature(dspy.Signature):\n",
    "    \"Translate plain english to Grug text.\"\n",
    "    plain_english = dspy.InputField()\n",
    "    grug_text = dspy.OutputField()\n",
    "    # grug_text = dspy.OutputField(prefix = \"The Grug Text:\", format = lambda x:\"===\"+x+\"===\") \n",
    "\n",
    "# extra (just to display)\n",
    "# print(GrugSignature.signature)\n",
    "# print(GrugSignature.with_instructions)"
   ]
  },
  {
   "cell_type": "code",
   "execution_count": 49,
   "metadata": {},
   "outputs": [],
   "source": [
    "# extra (templating for visualisation)\n",
    "# from dspy.signatures.signature import signature_to_template\n",
    "# signature_to_template(GrugSignature).query(examples[0])"
   ]
  },
  {
   "cell_type": "code",
   "execution_count": 50,
   "metadata": {},
   "outputs": [],
   "source": [
    "class TranslationModule(dspy.Module):\n",
    "    def __init__(self):\n",
    "        super().__init__\n",
    "        self.prog = dspy.ChainOfThought(GrugSignature)\n",
    "    def forward(self, plain_english):\n",
    "        return self.prog(plain_english=plain_english)\n",
    "    \n",
    "# extra\n",
    "# TranslationModule().forward(\"You should not construct complex systems.\")"
   ]
  },
  {
   "cell_type": "code",
   "execution_count": 51,
   "metadata": {},
   "outputs": [],
   "source": [
    "# High ARI = high syntacticall complexity (we seek low complexity for grug_text)\n",
    "\n",
    "def get_ARI(text):\n",
    "    import re\n",
    "    characters = len(re.sub(r'\\s+', '', text))\n",
    "    words = len(text.split())\n",
    "    sentences = len(re.findall(r'[.!?\\n]', text))\n",
    "    if words == 0 or sentences == 0:\n",
    "        return 0\n",
    "    ari = 4.71 * (characters / words) + 0.5 * (words / sentences) - 21.43\n",
    "    return round(ari, 2)\n"
   ]
  },
  {
   "cell_type": "code",
   "execution_count": 52,
   "metadata": {},
   "outputs": [
    {
     "name": "stdout",
     "output_type": "stream",
     "text": [
      "Plain English (11.68) -> It's okay, it's a free country, and in the end, it doesn't matter much...\n",
      "    Grug Text (14.62) -> is free country sort of and end of day not really matter too much, but...\n",
      "              /+2.94\n",
      "\n",
      "Plain English (10.34) -> Many experienced developers might not like this, and will probably mak...\n",
      "    Grug Text (14.12) -> THINK they are big brained developers many, many more, and more even d...\n",
      "              /+3.78\n",
      "\n",
      " Plain English (8.26) -> Some experienced developers might not like this, and might make a sour...\n",
      "        Grug Text (0) -> big brained developers are many, and some not expected to like this, m...\n",
      "              /-8.26\n",
      "\n",
      "Plain English (10.27) -> Grug's biggest enemy is complexity.\n",
      "        Grug Text (0) -> apex predator of grug is complexity\n",
      "             /-10.27\n",
      "\n",
      "Plain English (11.05) -> Grug Brain is not a genius, but has programmed for a long time and lea...\n",
      "    Grug Text (13.98) -> grug brain developer not so smart, but grug brain developer program ma...\n",
      "              /+2.93\n",
      "\n",
      " Plain English (4.28) -> Grug used to think he was smart, but learned the hard way that he's no...\n",
      "        Grug Text (0) -> (note: grug once think big brained but learn hard way)\n",
      "              /-4.28\n",
      "\n",
      "Plain English (11.48) -> A collection of thoughts on software development gathered by a develop...\n",
      "        Grug Text (0) -> this collection of thoughts on software development gathered by grug b...\n",
      "             /-11.48\n",
      "\n",
      " Plain English (-5.8) -> It is fine.\n",
      "    Grug Text (-3.95) -> is fine!\n",
      "              /+1.85\n",
      "\n",
      " Plain English (5.19) -> Complexity is bad.\n",
      "        Grug Text (0) -> complexity bad\n",
      "              /-5.19\n",
      "\n",
      "Plain English (11.65) -> Grug Brain is trying to collect his learnings into a short, funny, and...\n",
      "    Grug Text (22.95) -> grug brain developer try collect learns into small, easily digestible ...\n",
      "              /+11.3\n",
      "\n"
     ]
    }
   ],
   "source": [
    "def ari_demonstration ():\n",
    "    \n",
    "    for ex in examples:\n",
    "        sources_ari = get_ARI(ex.plain_english)\n",
    "        grug_ari = get_ARI(ex.grug_text)\n",
    "        \n",
    "        plain_english_str = f\"Plain English ({sources_ari})\".rjust(21)+f\" -> {ex.plain_english if len(ex.plain_english)<70 else ex.plain_english[:70]+'...'}\"\n",
    "        grug_text_str = f\"Grug Text ({grug_ari})\".rjust(21)+f\" -> {ex.grug_text if len(ex.grug_text)<70 else ex.grug_text[:70]+'...'}\"\n",
    "        \n",
    "        print(plain_english_str.rjust(21))\n",
    "        print(grug_text_str.rjust(21))\n",
    "        print(f\"/{'+' if grug_ari > sources_ari else '-'}{abs(round(grug_ari-sources_ari,2))}\\n\".rjust(21))\n",
    "    \n",
    "ari_demonstration()\n"
   ]
  },
  {
   "cell_type": "code",
   "execution_count": 63,
   "metadata": {},
   "outputs": [],
   "source": [
    "def ari_metric(real_example, prediction, trace=None):\n",
    "\n",
    "    print(real_example)\n",
    "    print(prediction)\n",
    "\n",
    "    real_ari = get_ARI(real_example.grug_text)\n",
    "    pred_ari = get_ARI(prediction.grug_text)\n",
    "\n",
    "    # print(f\"ARI {real_ari} -> {pred_ari}\\n{real_example.grug_text} ->\\n{prediction.grug_text}\\n\")\n",
    "\n",
    "    ari_result = pred_ari <= 7.01\n",
    "\n",
    "    return ari_result"
   ]
  },
  {
   "cell_type": "code",
   "execution_count": 64,
   "metadata": {},
   "outputs": [],
   "source": [
    "gpt3 = dspy.OpenAI(model=\"gpt-3.5-turbo\", max_tokens=100, model_type='chat')\n",
    "\n",
    "class AssessBasedOnQuestion(dspy.Signature):\n",
    "    \"\"\"Given the assessed, provide a Yes or No to the assessment question.\"\"\"\n",
    "    text_being_assessed = dspy.InputField(format=str)\n",
    "    assessment_question = dspy.InputField(format=str)\n",
    "    assessment_answer = dspy.OutputField(desc='Yes or No')\n",
    "\n",
    "def similarity_metric(real_example, prediction, trace=None):\n",
    "\n",
    "    prompt = f\"\"\"\n",
    "    Does the text being assessed have the same meaning as the gold_standard text?\n",
    "    Gold Standard: \"{real_example.grug_text}\"\n",
    "    Provide only yes or no answer.\n",
    "    \"\"\"\n",
    "\n",
    "    with dspy.context(lm=gpt3):\n",
    "\n",
    "        assessor = dspy.Predict(AssessBasedOnQuestion) # we dont make a 'module' class because this agent is outside of the pipeline, it just assesses\n",
    "\n",
    "        raw_similarity_result = assessor(text_being_assessed=prediction.grug_text, assessment_question=prompt)\n",
    "        print(raw_similarity_result)\n",
    "        raw_similarity = raw_similarity_result.assessment_answer.lower().strip()\n",
    "        same_meaning = raw_similarity == 'yes'\n",
    "        return same_meaning"
   ]
  },
  {
   "cell_type": "code",
   "execution_count": 65,
   "metadata": {},
   "outputs": [],
   "source": [
    "def overall_metric(provided_example, predicted, trace=None):\n",
    "    similarity = similarity_metric(provided_example, predicted, trace)\n",
    "    ari = ari_metric(provided_example, predicted, trace)\n",
    "\n",
    "    if similarity and ari:\n",
    "        return True\n",
    "    return False"
   ]
  },
  {
   "cell_type": "code",
   "execution_count": 66,
   "metadata": {},
   "outputs": [
    {
     "name": "stderr",
     "output_type": "stream",
     "text": [
      "  0%|          | 0/6 [00:00<?, ?it/s]"
     ]
    },
    {
     "name": "stdout",
     "output_type": "stream",
     "text": [
      "Example({'grug_text': 'is free country sort of and end of day not really matter too much, but grug hope you fun reading and maybe learn from\\nmany, many mistake grug make over long program life', 'plain_english': \"It's okay, it's a free country, and in the end, it doesn't matter much, but Grug hopes you have fun reading and learn from his mistakes.\"}) (input_keys={'plain_english'})\n",
      "Prediction(\n",
      "    rationale=\"produce the grug_text. We start by acknowledging that it's okay, then we mention the concept of a free country, followed by the idea that it doesn't matter much. Finally, we express Grug's hope that the reader has fun reading and learns from his mistakes.\",\n",
      "    grug_text='okay, free country, not matter much, but grug hope fun read and learn from mistake'\n",
      ")\n",
      "Example({'grug_text': 'THINK they are big brained developers many, many more, and more even definitely probably maybe not like this, many\\nsour face (such is internet)', 'plain_english': 'Many experienced developers might not like this, and will probably make a sour face on the internet.'}) (input_keys={'plain_english'})\n",
      "Prediction(\n",
      "    rationale='produce the grug_text. We start by acknowledging that many experienced developers may not enjoy this, leading to potential negative reactions online.',\n",
      "    grug_text='many big brain developer not like, make sour face on internet'\n",
      ")\n",
      "Example({'grug_text': 'big brained developers are many, and some not expected to like this, make sour face', 'plain_english': 'Some experienced developers might not like this, and might make a sour face.'}) (input_keys={'plain_english'})\n",
      "Prediction(\n",
      "    rationale='produce the Grug text. We will simplify the sentence and focus on the key points.',\n",
      "    grug_text='THINK they are big brained developers some, maybe not like this, maybe sour face'\n",
      ")\n",
      "Example({'grug_text': 'apex predator of grug is complexity', 'plain_english': \"Grug's biggest enemy is complexity.\"}) (input_keys={'plain_english'})\n",
      "Prediction(\n",
      "    rationale=\"produce the Grug text. We need to emphasize Grug's struggle with complexity and how it poses a challenge for him.\",\n",
      "    grug_text='big enemy of grug is complexity (complexity big challenge for grug)'\n",
      ")\n"
     ]
    },
    {
     "name": "stderr",
     "output_type": "stream",
     "text": [
      " 67%|██████▋   | 4/6 [00:00<00:00, 158.64it/s]\n"
     ]
    }
   ],
   "source": [
    "from dspy.teleprompt import BootstrapFewShot\n",
    "# The tool we are going to use to optimise our prompt\n",
    "# Uses examples we have to generate synthetic examples\n",
    "\n",
    "config = dict(max_bootstrapped_demos=4, max_labeled_demos=4)\n",
    "teleprompter = BootstrapFewShot(metric=ari_metric, **config)\n",
    "teleprompter.max_errors = 0\n",
    "optimized_cot = teleprompter.compile(TranslationModule(), trainset=examples_for_training) # valset\n",
    "# compile to use some few-shot examples to actually try to improve"
   ]
  },
  {
   "cell_type": "code",
   "execution_count": 62,
   "metadata": {},
   "outputs": [],
   "source": [
    "from dspy.evaluate import Evaluate\n",
    "individual_metrics = [similarity_metric, ari_metric]"
   ]
  },
  {
   "cell_type": "code",
   "execution_count": 60,
   "metadata": {},
   "outputs": [
    {
     "name": "stdout",
     "output_type": "stream",
     "text": [
      "  0%|          | 0/4 [00:00<?, ?it/s]Prediction(\n",
      "    assessment_answer='Text Being Assessed: thoughts on software development by grug brain\\nAssessment Question:\\n\\n    Does the text being assessed have the same meaning as the gold_standard text?\\n    Gold Standard: \"this collection of thoughts on software development gathered by grug brain developer\"\\n    Provide only yes or no answer.\\n    \\nAssessment Answer: No'\n",
      ")\n",
      "Average Metric: 0 / 1  (0.0):   0%|          | 0/4 [00:00<?, ?it/s]Prediction(\n",
      "    assessment_answer='Yes'\n",
      ")\n",
      "Average Metric: 1 / 2  (50.0):  25%|██▌       | 1/4 [00:00<00:00, 47.06it/s]Prediction(\n",
      "    assessment_answer='Yes'\n",
      ")\n",
      "Average Metric: 2 / 3  (66.7):  50%|█████     | 2/4 [00:00<00:00, 79.27it/s]Prediction(\n",
      "    assessment_answer='No'\n",
      ")\n",
      "Average Metric: 2 / 4  (50.0): 100%|██████████| 4/4 [00:00<00:00, 132.22it/s]\n"
     ]
    },
    {
     "data": {
      "text/html": [
       "<style type=\"text/css\">\n",
       "#T_0b462 th {\n",
       "  text-align: left;\n",
       "}\n",
       "#T_0b462 td {\n",
       "  text-align: left;\n",
       "}\n",
       "#T_0b462_row0_col0, #T_0b462_row0_col1, #T_0b462_row0_col2, #T_0b462_row0_col3, #T_0b462_row0_col4, #T_0b462_row1_col0, #T_0b462_row1_col1, #T_0b462_row1_col2, #T_0b462_row1_col3, #T_0b462_row1_col4, #T_0b462_row2_col0, #T_0b462_row2_col1, #T_0b462_row2_col2, #T_0b462_row2_col3, #T_0b462_row2_col4, #T_0b462_row3_col0, #T_0b462_row3_col1, #T_0b462_row3_col2, #T_0b462_row3_col3, #T_0b462_row3_col4 {\n",
       "  text-align: left;\n",
       "  white-space: pre-wrap;\n",
       "  word-wrap: break-word;\n",
       "  max-width: 400px;\n",
       "}\n",
       "</style>\n",
       "<table id=\"T_0b462\">\n",
       "  <thead>\n",
       "    <tr>\n",
       "      <th class=\"blank level0\" >&nbsp;</th>\n",
       "      <th id=\"T_0b462_level0_col0\" class=\"col_heading level0 col0\" >example_grug_text</th>\n",
       "      <th id=\"T_0b462_level0_col1\" class=\"col_heading level0 col1\" >plain_english</th>\n",
       "      <th id=\"T_0b462_level0_col2\" class=\"col_heading level0 col2\" >rationale</th>\n",
       "      <th id=\"T_0b462_level0_col3\" class=\"col_heading level0 col3\" >pred_grug_text</th>\n",
       "      <th id=\"T_0b462_level0_col4\" class=\"col_heading level0 col4\" >similarity_metric</th>\n",
       "    </tr>\n",
       "  </thead>\n",
       "  <tbody>\n",
       "    <tr>\n",
       "      <th id=\"T_0b462_level0_row0\" class=\"row_heading level0 row0\" >0</th>\n",
       "      <td id=\"T_0b462_row0_col0\" class=\"data row0 col0\" >this collection of thoughts on software development gathered by grug brain developer</td>\n",
       "      <td id=\"T_0b462_row0_col1\" class=\"data row0 col1\" >A collection of thoughts on software development gathered by a developer named Grug Brain.</td>\n",
       "      <td id=\"T_0b462_row0_col2\" class=\"data row0 col2\" >produce the Grug text. We need to highlight that these are thoughts on software development collected by Grug Brain.</td>\n",
       "      <td id=\"T_0b462_row0_col3\" class=\"data row0 col3\" >thoughts on software development by grug brain</td>\n",
       "      <td id=\"T_0b462_row0_col4\" class=\"data row0 col4\" >False</td>\n",
       "    </tr>\n",
       "    <tr>\n",
       "      <th id=\"T_0b462_level0_row1\" class=\"row_heading level0 row1\" >1</th>\n",
       "      <td id=\"T_0b462_row1_col0\" class=\"data row1 col0\" >is fine!</td>\n",
       "      <td id=\"T_0b462_row1_col1\" class=\"data row1 col1\" >It is fine.</td>\n",
       "      <td id=\"T_0b462_row1_col2\" class=\"data row1 col2\" >produce the Grug text. We need to simplify the sentence and convey the idea that everything is okay.</td>\n",
       "      <td id=\"T_0b462_row1_col3\" class=\"data row1 col3\" >fine</td>\n",
       "      <td id=\"T_0b462_row1_col4\" class=\"data row1 col4\" >✔️ [True]</td>\n",
       "    </tr>\n",
       "    <tr>\n",
       "      <th id=\"T_0b462_level0_row2\" class=\"row_heading level0 row2\" >2</th>\n",
       "      <td id=\"T_0b462_row2_col0\" class=\"data row2 col0\" >complexity bad</td>\n",
       "      <td id=\"T_0b462_row2_col1\" class=\"data row2 col1\" >Complexity is bad.</td>\n",
       "      <td id=\"T_0b462_row2_col2\" class=\"data row2 col2\" >produce the Grug text. We need to simplify the statement and emphasize the negative aspect of complexity.</td>\n",
       "      <td id=\"T_0b462_row2_col3\" class=\"data row2 col3\" >complexity bad</td>\n",
       "      <td id=\"T_0b462_row2_col4\" class=\"data row2 col4\" >✔️ [True]</td>\n",
       "    </tr>\n",
       "    <tr>\n",
       "      <th id=\"T_0b462_level0_row3\" class=\"row_heading level0 row3\" >3</th>\n",
       "      <td id=\"T_0b462_row3_col0\" class=\"data row3 col0\" >grug brain developer try collect learns into small, easily digestible and funny page, not only for you, the young grug, but also for him because...</td>\n",
       "      <td id=\"T_0b462_row3_col1\" class=\"data row3 col1\" >Grug Brain is trying to collect his learnings into a short, funny, and easy-to-read page for both himself and others.</td>\n",
       "      <td id=\"T_0b462_row3_col2\" class=\"data row3 col2\" >produce the Grug text. We need to highlight Grug's brain working to gather his knowledge in a concise, humorous, and accessible format for himself and...</td>\n",
       "      <td id=\"T_0b462_row3_col3\" class=\"data row3 col3\" >grug brain collect learnings, make short, funny, easy read page for self and others</td>\n",
       "      <td id=\"T_0b462_row3_col4\" class=\"data row3 col4\" >False</td>\n",
       "    </tr>\n",
       "  </tbody>\n",
       "</table>\n"
      ],
      "text/plain": [
       "<pandas.io.formats.style.Styler at 0x2755d4f9050>"
      ]
     },
     "metadata": {},
     "output_type": "display_data"
    },
    {
     "name": "stdout",
     "output_type": "stream",
     "text": [
      "Average Metric: 4 / 4  (100.0): 100%|██████████| 4/4 [00:00<00:00, 583.60it/s]\n"
     ]
    },
    {
     "data": {
      "text/html": [
       "<style type=\"text/css\">\n",
       "#T_e79ce th {\n",
       "  text-align: left;\n",
       "}\n",
       "#T_e79ce td {\n",
       "  text-align: left;\n",
       "}\n",
       "#T_e79ce_row0_col0, #T_e79ce_row0_col1, #T_e79ce_row0_col2, #T_e79ce_row0_col3, #T_e79ce_row0_col4, #T_e79ce_row1_col0, #T_e79ce_row1_col1, #T_e79ce_row1_col2, #T_e79ce_row1_col3, #T_e79ce_row1_col4, #T_e79ce_row2_col0, #T_e79ce_row2_col1, #T_e79ce_row2_col2, #T_e79ce_row2_col3, #T_e79ce_row2_col4, #T_e79ce_row3_col0, #T_e79ce_row3_col1, #T_e79ce_row3_col2, #T_e79ce_row3_col3, #T_e79ce_row3_col4 {\n",
       "  text-align: left;\n",
       "  white-space: pre-wrap;\n",
       "  word-wrap: break-word;\n",
       "  max-width: 400px;\n",
       "}\n",
       "</style>\n",
       "<table id=\"T_e79ce\">\n",
       "  <thead>\n",
       "    <tr>\n",
       "      <th class=\"blank level0\" >&nbsp;</th>\n",
       "      <th id=\"T_e79ce_level0_col0\" class=\"col_heading level0 col0\" >example_grug_text</th>\n",
       "      <th id=\"T_e79ce_level0_col1\" class=\"col_heading level0 col1\" >plain_english</th>\n",
       "      <th id=\"T_e79ce_level0_col2\" class=\"col_heading level0 col2\" >rationale</th>\n",
       "      <th id=\"T_e79ce_level0_col3\" class=\"col_heading level0 col3\" >pred_grug_text</th>\n",
       "      <th id=\"T_e79ce_level0_col4\" class=\"col_heading level0 col4\" >ari_metric</th>\n",
       "    </tr>\n",
       "  </thead>\n",
       "  <tbody>\n",
       "    <tr>\n",
       "      <th id=\"T_e79ce_level0_row0\" class=\"row_heading level0 row0\" >0</th>\n",
       "      <td id=\"T_e79ce_row0_col0\" class=\"data row0 col0\" >this collection of thoughts on software development gathered by grug brain developer</td>\n",
       "      <td id=\"T_e79ce_row0_col1\" class=\"data row0 col1\" >A collection of thoughts on software development gathered by a developer named Grug Brain.</td>\n",
       "      <td id=\"T_e79ce_row0_col2\" class=\"data row0 col2\" >produce the Grug text. We need to highlight that these are thoughts on software development collected by Grug Brain.</td>\n",
       "      <td id=\"T_e79ce_row0_col3\" class=\"data row0 col3\" >thoughts on software development by grug brain</td>\n",
       "      <td id=\"T_e79ce_row0_col4\" class=\"data row0 col4\" >✔️ [True]</td>\n",
       "    </tr>\n",
       "    <tr>\n",
       "      <th id=\"T_e79ce_level0_row1\" class=\"row_heading level0 row1\" >1</th>\n",
       "      <td id=\"T_e79ce_row1_col0\" class=\"data row1 col0\" >is fine!</td>\n",
       "      <td id=\"T_e79ce_row1_col1\" class=\"data row1 col1\" >It is fine.</td>\n",
       "      <td id=\"T_e79ce_row1_col2\" class=\"data row1 col2\" >produce the Grug text. We need to simplify the sentence and convey the idea that everything is okay.</td>\n",
       "      <td id=\"T_e79ce_row1_col3\" class=\"data row1 col3\" >fine</td>\n",
       "      <td id=\"T_e79ce_row1_col4\" class=\"data row1 col4\" >✔️ [True]</td>\n",
       "    </tr>\n",
       "    <tr>\n",
       "      <th id=\"T_e79ce_level0_row2\" class=\"row_heading level0 row2\" >2</th>\n",
       "      <td id=\"T_e79ce_row2_col0\" class=\"data row2 col0\" >complexity bad</td>\n",
       "      <td id=\"T_e79ce_row2_col1\" class=\"data row2 col1\" >Complexity is bad.</td>\n",
       "      <td id=\"T_e79ce_row2_col2\" class=\"data row2 col2\" >produce the Grug text. We need to simplify the statement and emphasize the negative aspect of complexity.</td>\n",
       "      <td id=\"T_e79ce_row2_col3\" class=\"data row2 col3\" >complexity bad</td>\n",
       "      <td id=\"T_e79ce_row2_col4\" class=\"data row2 col4\" >✔️ [True]</td>\n",
       "    </tr>\n",
       "    <tr>\n",
       "      <th id=\"T_e79ce_level0_row3\" class=\"row_heading level0 row3\" >3</th>\n",
       "      <td id=\"T_e79ce_row3_col0\" class=\"data row3 col0\" >grug brain developer try collect learns into small, easily digestible and funny page, not only for you, the young grug, but also for him because...</td>\n",
       "      <td id=\"T_e79ce_row3_col1\" class=\"data row3 col1\" >Grug Brain is trying to collect his learnings into a short, funny, and easy-to-read page for both himself and others.</td>\n",
       "      <td id=\"T_e79ce_row3_col2\" class=\"data row3 col2\" >produce the Grug text. We need to highlight Grug's brain working to gather his knowledge in a concise, humorous, and accessible format for himself and...</td>\n",
       "      <td id=\"T_e79ce_row3_col3\" class=\"data row3 col3\" >grug brain collect learnings, make short, funny, easy read page for self and others</td>\n",
       "      <td id=\"T_e79ce_row3_col4\" class=\"data row3 col4\" >✔️ [True]</td>\n",
       "    </tr>\n",
       "  </tbody>\n",
       "</table>\n"
      ],
      "text/plain": [
       "<pandas.io.formats.style.Styler at 0x2755e2bc490>"
      ]
     },
     "metadata": {},
     "output_type": "display_data"
    },
    {
     "name": "stdout",
     "output_type": "stream",
     "text": [
      "[Example({'grug_text': 'this collection of thoughts on software development gathered by grug brain developer', 'plain_english': 'A collection of thoughts on software development gathered by a developer named Grug Brain.'}) (input_keys={'plain_english'}), Example({'grug_text': 'is fine!', 'plain_english': 'It is fine.'}) (input_keys={'plain_english'}), Example({'grug_text': 'complexity bad', 'plain_english': 'Complexity is bad.'}) (input_keys={'plain_english'}), Example({'grug_text': 'grug brain developer try collect learns into small, easily digestible and funny page, not only for you, the young grug, but also for him\\nbecause as grug brain developer get older he forget important things, like what had for breakfast or if put pants on', 'plain_english': 'Grug Brain is trying to collect his learnings into a short, funny, and easy-to-read page for both himself and others.'}) (input_keys={'plain_english'})]\n",
      "<function ari_metric at 0x000002755BFFB880>\n"
     ]
    }
   ],
   "source": [
    "for metric in individual_metrics:\n",
    "    evaluate = Evaluate(metric=metric, devset=examples_for_testing, num_threads=1, display_progress=True, display_table=5)\n",
    "    evaluate(optimized_cot)\n",
    "\n",
    "    # We get a table for each metric tested\n",
    "    "
   ]
  },
  {
   "cell_type": "code",
   "execution_count": 131,
   "metadata": {},
   "outputs": [
    {
     "data": {
      "text/plain": [
       "Prediction(\n",
       "    rationale='Grug text: you not build complex systems',\n",
       "    grug_text='you not build complex systems'\n",
       ")"
      ]
     },
     "execution_count": 131,
     "metadata": {},
     "output_type": "execute_result"
    }
   ],
   "source": [
    "optimized_cot.forward(\"You should not construct complex systems.\")"
   ]
  }
 ],
 "metadata": {
  "kernelspec": {
   "display_name": ".venv",
   "language": "python",
   "name": "python3"
  },
  "language_info": {
   "codemirror_mode": {
    "name": "ipython",
    "version": 3
   },
   "file_extension": ".py",
   "mimetype": "text/x-python",
   "name": "python",
   "nbconvert_exporter": "python",
   "pygments_lexer": "ipython3",
   "version": "3.11.1"
  }
 },
 "nbformat": 4,
 "nbformat_minor": 2
}
