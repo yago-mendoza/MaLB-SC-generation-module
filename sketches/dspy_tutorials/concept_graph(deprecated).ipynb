{
 "cells": [
  {
   "cell_type": "code",
   "execution_count": 22,
   "metadata": {},
   "outputs": [],
   "source": [
    "import json\n",
    "import dspy\n",
    "\n",
    "import pprint\n",
    "pprint = pprint.PrettyPrinter(indent=4).pprint\n",
    "\n",
    "with open('../examples/smart_contract_descriptions/json/data.json', 'r') as f:\n",
    "    d = json.load(f)\n",
    "\n",
    "gpt4_turbo = dspy.OpenAI(model='gpt-4-1106-preview', max_tokens=300)\n",
    "gpt3_turbo = dspy.OpenAI(model='gpt-3.5-turbo-1106', max_tokens=300, temperature=1)\n",
    "\n",
    "dspy.settings.configure(lm=gpt3_turbo, max_tokens=1024)"
   ]
  },
  {
   "cell_type": "code",
   "execution_count": 83,
   "metadata": {},
   "outputs": [
    {
     "name": "stderr",
     "output_type": "stream",
     "text": [
      "100%|██████████| 3/3 [00:00<00:00, 89.03it/s]\n"
     ]
    },
    {
     "data": {
      "text/plain": [
       "['Membership Levels',\n",
       " 'Bronze',\n",
       " 'Silver',\n",
       " 'Gold',\n",
       " 'Upgrade Tokens Required',\n",
       " '0',\n",
       " '100',\n",
       " '200',\n",
       " 'Downgrade Token Refund',\n",
       " '>2 years',\n",
       " '70%',\n",
       " '>1 year',\n",
       " '50%',\n",
       " '>6 months',\n",
       " '30%',\n",
       " 'Upgrade Cooldown Period',\n",
       " '12 days']"
      ]
     },
     "execution_count": 83,
     "metadata": {},
     "output_type": "execute_result"
    }
   ],
   "source": [
    "import pydantic\n",
    "from typing import List, Dict, Any\n",
    "\n",
    "\n",
    "# It is intented to manage tiered VIP memberships, allowing fans to upgrade or downgrade their membership based on the tokens they hold. Define membership levels as Bronze, Silver, and Gold, each with associated perks. Upgrading requires the owner to have a sufficient number of additional tokens (100 tokens for Silver, 200 for Gold). Include functionality for members to voluntarily lower their level, refunding tokens proportionally based on their tenure on the platform (70% if >2 years, 50% if >1 year, 30% if >6 months). Once downgraded, a member must wait 12 days before upgrading again.\",\n",
    "\n",
    "summarized_features3 = ['Levels','Bronze', 'Tokens required','0','Silver','Tokens required','100','Gold', 'Tokens required','200', 'Upgrade cooldown period', '12 days','Downgrade token refund','>2 years', '70%', '>1 year)','50%','>6 months','30%']\n",
    "summarized_features2 = ['Times bid allowed', '3', 'Mandatory bid incrase', '5%']\n",
    "summarized_features = ['Max cap', '50,000', 'Personal limit', 'default', '1:1', 'golden', '1:3', 'Buy phases', 'first phase', '5 minutes', 'second phase', '1 week after', 'Cancellation', 'Compensation', 'Golden', '25%', 'Platinum', '5%', 'Bronze', '0%']\n",
    "\n",
    "examples = [\n",
    "    dspy.Example(smart_contract_description=d['D1']['descriptions']['description_1'],\n",
    "                 schematic_data=summarized_features).with_inputs(\"smart_contract_description\"),\n",
    "    dspy.Example(smart_contract_description=d['D2']['descriptions']['description_1'],\n",
    "                 schematic_data=summarized_features2).with_inputs(\"smart_contract_description\"),\n",
    "    dspy.Example(smart_contract_description=d['D3']['descriptions']['description_1'],\n",
    "                 schematic_data=summarized_features3).with_inputs(\"smart_contract_description\"),\n",
    "]\n",
    "\n",
    "class GenerateSchematicData(dspy.Signature):\n",
    "    \"\"\"Generate a coherent sequence of terms that robotically explain the description\"\"\"\n",
    "    smart_contract_description: str = dspy.InputField(desc=\"A description of a Smart Contract\")\n",
    "    schematic_data: List[str] = dspy.OutputField(desc=\"A list containing schematic data\")\n",
    "\n",
    "class GenerateSchematicDataModule(dspy.Module):\n",
    "\n",
    "    def __init__(self):\n",
    "        super().__init__()\n",
    "        self.generate_answer = dspy.functional.TypedChainOfThought(GenerateSchematicData)\n",
    "\n",
    "    def forward(self, smart_contract_description: str) -> List[str]:\n",
    "        return self.generate_answer(smart_contract_description=smart_contract_description)\n",
    "\n",
    "def metric(example, prediction, trace=None):\n",
    "    terms = prediction.schematic_data\n",
    "    return sum([term.count(' ') for term in terms])/len(terms) < 2\n",
    "\n",
    "from dspy.teleprompt import BootstrapFewShot\n",
    "config = dict(max_bootstrapped_demos=len(examples)) # max_labeled_demos=4\n",
    "teleprompter = BootstrapFewShot(metric=metric, **config)\n",
    "teleprompter.max_errors = 0\n",
    "optimised_program = teleprompter.compile(GenerateSchematicDataModule(), trainset=examples)\n",
    "# It doesnt use 'valset' for training (run in Jupyter loads automatically even if changed)\n",
    "\n",
    "smart_contract_description = d['D2']['descriptions']['description_1']\n",
    "pred = optimised_program(smart_contract_description)\n",
    "\n",
    "schematic_data = pred.schematic_data\n",
    "schematic_data\n"
   ]
  },
  {
   "cell_type": "code",
   "execution_count": 85,
   "metadata": {},
   "outputs": [
    {
     "name": "stdout",
     "output_type": "stream",
     "text": [
      "{   '0': [   'Membership Levels',\n",
      "             'Bronze',\n",
      "             'Silver',\n",
      "             'Gold',\n",
      "             'Upgrade Tokens Required',\n",
      "             '100',\n",
      "             '200',\n",
      "             'Downgrade Token Refund',\n",
      "             '>2 years',\n",
      "             '70%',\n",
      "             '>1 year',\n",
      "             '50%',\n",
      "             '>6 months',\n",
      "             '30%',\n",
      "             'Upgrade Cooldown Period',\n",
      "             '12 days'],\n",
      "    '100': ['Upgrade Tokens Required'],\n",
      "    '12 days': ['Upgrade Cooldown Period'],\n",
      "    '200': ['Upgrade Tokens Required', 'Gold'],\n",
      "    '30%': ['70%', '50%', '30%'],\n",
      "    '50%': ['50%'],\n",
      "    '70%': ['70%'],\n",
      "    '>1 year': ['50%'],\n",
      "    '>2 years': ['70%'],\n",
      "    '>6 months': ['Downgrade Token Refund', '>6 months'],\n",
      "    'Bronze': ['Membership Levels', 'Bronze'],\n",
      "    'Downgrade Token Refund': ['70%', '50%', '30%'],\n",
      "    'Gold': ['Membership Levels', 'Gold'],\n",
      "    'Membership Levels': ['Bronze', 'Silver', 'Gold'],\n",
      "    'Silver': ['Membership Levels', 'Silver'],\n",
      "    'Upgrade Cooldown Period': ['12 days'],\n",
      "    'Upgrade Tokens Required': ['100 tokens for Silver', '200 for Gold']}\n"
     ]
    }
   ],
   "source": [
    "import pydantic\n",
    "from typing import List\n",
    "\n",
    "smart_contract_description = d['D3']['descriptions']['description_1']\n",
    "\n",
    "# class GenerateNodes(dspy.Signature):\n",
    "#     \"\"\"Extract a list of 10 short keywords that appear in the smart contract\"\"\"\n",
    "#     smart_contract_description: str = dspy.InputField(desc=\"A description of a Smart Contract\")\n",
    "#     list_of_features: List[str] = dspy.OutputField(desc=\"The list of complete terms\")\n",
    "\n",
    "# class GenerateNodesModule(dspy.Module):\n",
    "\n",
    "#     def __init__(self):\n",
    "#         super().__init__()\n",
    "#         self.generate_answer = dspy.functional.TypedChainOfThought(GenerateNodes)\n",
    "\n",
    "#     def forward(self, smart_contract_description: str) -> List[str]:\n",
    "#         return self.generate_answer(smart_contract_description=smart_contract_description)\n",
    "\n",
    "# list_of_features = GenerateNodesModule().forward(smart_contract_description=smart_contract_description).list_of_features\n",
    "\n",
    "class FilterNodes(dspy.Signature):\n",
    "    \"\"\"Basing on the given terms, filter the ones that make reference to them in the context\"\"\"\n",
    "    context: str = dspy.InputField(desc=\"The contextual smart contract description from where terms come\")\n",
    "    list_of_features: List[str] = dspy.InputField(desc=\"The list of complete terms\")\n",
    "    feature: str = dspy.InputField(desc=\"The target term\")\n",
    "    related_features: List[str] = dspy.OutputField(desc=\"The list of terms\")\n",
    "\n",
    "class FilterNodesModule(dspy.Module):\n",
    "\n",
    "    def __init__(self):\n",
    "        super().__init__()\n",
    "        self.generate_answer = dspy.functional.TypedChainOfThought(FilterNodes)\n",
    "\n",
    "    def forward(self, context: str, feature: str, list_of_features: List[str]) -> List[str]:\n",
    "        return self.generate_answer(context=smart_contract_description, feature=feature, list_of_features=list_of_features)\n",
    "\n",
    "data_dict = {}\n",
    "\n",
    "for feature in schematic_data:\n",
    "    lst = schematic_data[:]\n",
    "    lst.remove(feature)\n",
    "    pred = FilterNodesModule().forward(context=smart_contract_description, feature=feature, list_of_features=lst)\n",
    "    data_dict[feature] = pred.related_features\n",
    "\n",
    "pprint(data_dict)\n",
    "\n",
    "\n"
   ]
  },
  {
   "cell_type": "code",
   "execution_count": 41,
   "metadata": {},
   "outputs": [
    {
     "data": {
      "image/png": "[encoded data removed]",
      "text/plain": [
       "<Figure size 640x480 with 1 Axes>"
      ]
     },
     "metadata": {},
     "output_type": "display_data"
    }
   ],
   "source": [
    "\n",
    "import networkx as nx\n",
    "import matplotlib.pyplot as plt\n",
    "\n",
    "# Create a new graph\n",
    "G = nx.Graph()\n",
    "\n",
    "# Add nodes and edges from the dictionary\n",
    "for key, values in data_dict.items():\n",
    "    for value in values:\n",
    "        G.add_edge(key, value)\n",
    "\n",
    "# Draw the network graph\n",
    "nx.draw(G, with_labels=True, node_color='lightblue', edge_color='gray', node_size=100, font_size=5)\n",
    "\n",
    "# Display the graph\n",
    "plt.show()\n"
   ]
  }
 ],
 "metadata": {
  "kernelspec": {
   "display_name": ".venv",
   "language": "python",
   "name": "python3"
  },
  "language_info": {
   "codemirror_mode": {
    "name": "ipython",
    "version": 3
   },
   "file_extension": ".py",
   "mimetype": "text/x-python",
   "name": "python",
   "nbconvert_exporter": "python",
   "pygments_lexer": "ipython3",
   "version": "3.11.1"
  }
 },
 "nbformat": 4,
 "nbformat_minor": 2
}
