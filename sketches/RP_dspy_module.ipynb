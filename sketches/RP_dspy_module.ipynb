{
 "cells": [
  {
   "cell_type": "code",
   "execution_count": null,
   "metadata": {},
   "outputs": [],
   "source": [
    "deleteme please"
   ]
  },
  {
   "cell_type": "code",
   "execution_count": 68,
   "metadata": {},
   "outputs": [],
   "source": [
    "# %load_ext autoreload\n",
    "# %autoreload 2\n",
    "\n",
    "# import sys\n",
    "# import os\n",
    "\n",
    "# try: # When on google Colab, let's clone the notebook so we download the cache.\n",
    "#     import google.colab\n",
    "#     repo_path = 'dspy'\n",
    "#     !git -C $repo_path pull origin || git clone https://github.com/stanfordnlp/dspy $repo_path\n",
    "# except:\n",
    "#     repo_path = '.'\n",
    "\n",
    "# if repo_path not in sys.path:\n",
    "#     sys.path.append(repo_path)\n",
    "\n",
    "# # Set up the cache for this notebook\n",
    "# os.environ[\"DSP_NOTEBOOK_CACHEDIR\"] = os.path.join(repo_path, 'cache')\n",
    "\n",
    "# import pkg_resources # Install the package if it's not installed\n",
    "# if not \"dspy-ai\" in {pkg.key for pkg in pkg_resources.working_set}:\n",
    "#     !pip install -U pip\n",
    "#     !pip install dspy-ai\n",
    "#     !pip install openai~=0.28.1\n",
    "#     # !pip install -e $repo_path"
   ]
  },
  {
   "cell_type": "code",
   "execution_count": 4,
   "metadata": {
    "metadata": {}
   },
   "outputs": [
    {
     "name": "stderr",
     "output_type": "stream",
     "text": [
      "/home/yago/Projects/MaLB-SC-generation-module/.venv/lib/python3.10/site-packages/tqdm/auto.py:21: TqdmWarning: IProgress not found. Please update jupyter and ipywidgets. See https://ipywidgets.readthedocs.io/en/stable/user_install.html\n",
      "  from .autonotebook import tqdm as notebook_tqdm\n"
     ]
    }
   ],
   "source": [
    "import dspy\n",
    "import pydantic\n",
    "import numpy as np"
   ]
  },
  {
   "cell_type": "code",
   "execution_count": 6,
   "metadata": {},
   "outputs": [],
   "source": [
    "import pprint\n",
    "pprint = pprint.PrettyPrinter(indent=4).pprint"
   ]
  },
  {
   "cell_type": "code",
   "execution_count": 7,
   "metadata": {},
   "outputs": [],
   "source": [
    "gpt4_turbo = dspy.OpenAI(model='gpt-4-1106-preview', max_tokens=300)\n",
    "gpt3_turbo = dspy.OpenAI(model='gpt-3.5-turbo-1106', max_tokens=300, temperature=1)\n",
    "\n",
    "dspy.settings.configure(lm=gpt3_turbo, max_tokens=1024)"
   ]
  },
  {
   "cell_type": "markdown",
   "metadata": {},
   "source": [
    "# AssessSubjectModule\n",
    "\n",
    "This module takes a description as input and determines whether it pertains to a technical smart contract description or other topics outside of its scope."
   ]
  },
  {
   "cell_type": "code",
   "execution_count": 32,
   "metadata": {},
   "outputs": [],
   "source": [
    "import json\n",
    "\n",
    "with open('../examples/off_topic_descriptions/data.json', 'r') as f1,\\\n",
    "     open('../examples/smart_contract_descriptions/data.json', 'r') as f2:\n",
    "    d1 = json.load(f1)\n",
    "    d2 = json.load(f2)\n",
    "\n",
    "OT_descriptions = [(description, False) for description in d1['descriptions']]\n",
    "SC_descriptions = []\n",
    "for key in d2:\n",
    "    SC_descriptions.append((d2[key]['descriptions']['description_1'], True))\n",
    "    # SC_descriptions.append((d2[key]['descriptions']['description_2'], True))\n",
    "    # SC_descriptions.append((d2[key]['descriptions']['description_3'], True))\n",
    "    # SC_descriptions.append((d2[key]['descriptions']['description_4'], True))\n",
    "combined_descriptions = OT_descriptions + SC_descriptions\n",
    "\n",
    "# Arguments must have the same name as Signature input/output\n",
    "examples = [\n",
    "    dspy.Example(smart_contract_description=desc, boolean_assessment=is_valid).with_inputs(\"smart_contract_description\")\n",
    "    for desc, is_valid in combined_descriptions\n",
    "]\n",
    "\n",
    "def split_for_train_test(values, test_size=1/2.0):\n",
    "    np.random.shuffle(values)\n",
    "    split = int(len(values) * (1 - test_size))\n",
    "    return values[:split], values[split:]\n",
    "\n",
    "examples_for_training, examples_for_testing = split_for_train_test(examples)\n",
    "\n",
    "# print(\"List of 'examples' for training: \")\n",
    "# pprint(examples_for_training)\n",
    "# print(\"\\nList of 'examples' for testing: \")\n",
    "# pprint(examples_for_testing)"
   ]
  },
  {
   "cell_type": "code",
   "execution_count": 33,
   "metadata": {},
   "outputs": [
    {
     "name": "stderr",
     "output_type": "stream",
     "text": [
      "100%|██████████| 15/15 [00:18<00:00,  1.20s/it]\n"
     ]
    },
    {
     "name": "stdout",
     "output_type": "stream",
     "text": [
      "Average Metric: 15 / 15  (100.0): 100%|██████████| 15/15 [00:17<00:00,  1.15s/it]\n"
     ]
    },
    {
     "data": {
      "text/html": [
       "<style type=\"text/css\">\n",
       "#T_e17f1 th {\n",
       "  text-align: left;\n",
       "}\n",
       "#T_e17f1 td {\n",
       "  text-align: left;\n",
       "}\n",
       "#T_e17f1_row0_col0, #T_e17f1_row0_col1, #T_e17f1_row0_col2, #T_e17f1_row0_col3, #T_e17f1_row0_col4, #T_e17f1_row1_col0, #T_e17f1_row1_col1, #T_e17f1_row1_col2, #T_e17f1_row1_col3, #T_e17f1_row1_col4, #T_e17f1_row2_col0, #T_e17f1_row2_col1, #T_e17f1_row2_col2, #T_e17f1_row2_col3, #T_e17f1_row2_col4, #T_e17f1_row3_col0, #T_e17f1_row3_col1, #T_e17f1_row3_col2, #T_e17f1_row3_col3, #T_e17f1_row3_col4, #T_e17f1_row4_col0, #T_e17f1_row4_col1, #T_e17f1_row4_col2, #T_e17f1_row4_col3, #T_e17f1_row4_col4, #T_e17f1_row5_col0, #T_e17f1_row5_col1, #T_e17f1_row5_col2, #T_e17f1_row5_col3, #T_e17f1_row5_col4, #T_e17f1_row6_col0, #T_e17f1_row6_col1, #T_e17f1_row6_col2, #T_e17f1_row6_col3, #T_e17f1_row6_col4, #T_e17f1_row7_col0, #T_e17f1_row7_col1, #T_e17f1_row7_col2, #T_e17f1_row7_col3, #T_e17f1_row7_col4, #T_e17f1_row8_col0, #T_e17f1_row8_col1, #T_e17f1_row8_col2, #T_e17f1_row8_col3, #T_e17f1_row8_col4, #T_e17f1_row9_col0, #T_e17f1_row9_col1, #T_e17f1_row9_col2, #T_e17f1_row9_col3, #T_e17f1_row9_col4, #T_e17f1_row10_col0, #T_e17f1_row10_col1, #T_e17f1_row10_col2, #T_e17f1_row10_col3, #T_e17f1_row10_col4, #T_e17f1_row11_col0, #T_e17f1_row11_col1, #T_e17f1_row11_col2, #T_e17f1_row11_col3, #T_e17f1_row11_col4, #T_e17f1_row12_col0, #T_e17f1_row12_col1, #T_e17f1_row12_col2, #T_e17f1_row12_col3, #T_e17f1_row12_col4, #T_e17f1_row13_col0, #T_e17f1_row13_col1, #T_e17f1_row13_col2, #T_e17f1_row13_col3, #T_e17f1_row13_col4, #T_e17f1_row14_col0, #T_e17f1_row14_col1, #T_e17f1_row14_col2, #T_e17f1_row14_col3, #T_e17f1_row14_col4 {\n",
       "  text-align: left;\n",
       "  white-space: pre-wrap;\n",
       "  word-wrap: break-word;\n",
       "  max-width: 400px;\n",
       "}\n",
       "</style>\n",
       "<table id=\"T_e17f1\">\n",
       "  <thead>\n",
       "    <tr>\n",
       "      <th class=\"blank level0\" >&nbsp;</th>\n",
       "      <th id=\"T_e17f1_level0_col0\" class=\"col_heading level0 col0\" >smart_contract_description</th>\n",
       "      <th id=\"T_e17f1_level0_col1\" class=\"col_heading level0 col1\" >example_boolean_assessment</th>\n",
       "      <th id=\"T_e17f1_level0_col2\" class=\"col_heading level0 col2\" >reasoning</th>\n",
       "      <th id=\"T_e17f1_level0_col3\" class=\"col_heading level0 col3\" >pred_boolean_assessment</th>\n",
       "      <th id=\"T_e17f1_level0_col4\" class=\"col_heading level0 col4\" >metric</th>\n",
       "    </tr>\n",
       "  </thead>\n",
       "  <tbody>\n",
       "    <tr>\n",
       "      <th id=\"T_e17f1_level0_row0\" class=\"row_heading level0 row0\" >0</th>\n",
       "      <td id=\"T_e17f1_row0_col0\" class=\"data row0 col0\" >The smart contract must be able to produce tokens.</td>\n",
       "      <td id=\"T_e17f1_row0_col1\" class=\"data row0 col1\" >False</td>\n",
       "      <td id=\"T_e17f1_row0_col2\" class=\"data row0 col2\" >produce the boolean assessment. We need to consider if the text outlines a detailed engineer's functional description of how a specific smart contract is designed...</td>\n",
       "      <td id=\"T_e17f1_row0_col3\" class=\"data row0 col3\" >False</td>\n",
       "      <td id=\"T_e17f1_row0_col4\" class=\"data row0 col4\" >✔️ [True]</td>\n",
       "    </tr>\n",
       "    <tr>\n",
       "      <th id=\"T_e17f1_level0_row1\" class=\"row_heading level0 row1\" >1</th>\n",
       "      <td id=\"T_e17f1_row1_col0\" class=\"data row1 col0\" >For the Fan Engagement Platform, design a ERC721 Smart Contract to distribute rewards based on activity and token holdings at the end of each month....</td>\n",
       "      <td id=\"T_e17f1_row1_col1\" class=\"data row1 col1\" >True</td>\n",
       "      <td id=\"T_e17f1_row1_col2\" class=\"data row1 col2\" >produce the boolean assessment. We will first look at the provided description, then consider the structure and content to determine if it delivers a detailed...</td>\n",
       "      <td id=\"T_e17f1_row1_col3\" class=\"data row1 col3\" >True</td>\n",
       "      <td id=\"T_e17f1_row1_col4\" class=\"data row1 col4\" >✔️ [True]</td>\n",
       "    </tr>\n",
       "    <tr>\n",
       "      <th id=\"T_e17f1_level0_row2\" class=\"row_heading level0 row2\" >2</th>\n",
       "      <td id=\"T_e17f1_row2_col0\" class=\"data row2 col0\" >In the design world, the concept of a 'Design Compiler' could function similarly to how smart contracts are compiled. This tool would automatically transform high-level...</td>\n",
       "      <td id=\"T_e17f1_row2_col1\" class=\"data row2 col1\" >False</td>\n",
       "      <td id=\"T_e17f1_row2_col2\" class=\"data row2 col2\" >produce the boolean assessment. We would need to provide a detailed engineer’s functional description of how one particular smart contract is designed to work programmatically...</td>\n",
       "      <td id=\"T_e17f1_row2_col3\" class=\"data row2 col3\" >False</td>\n",
       "      <td id=\"T_e17f1_row2_col4\" class=\"data row2 col4\" >✔️ [True]</td>\n",
       "    </tr>\n",
       "    <tr>\n",
       "      <th id=\"T_e17f1_level0_row3\" class=\"row_heading level0 row3\" >3</th>\n",
       "      <td id=\"T_e17f1_row3_col0\" class=\"data row3 col0\" >Smart Contract Smart Contract Smart Contract Smart Contract Smart Contract Smart Contract Smart Contract Smart Contract.</td>\n",
       "      <td id=\"T_e17f1_row3_col1\" class=\"data row3 col1\" >False</td>\n",
       "      <td id=\"T_e17f1_row3_col2\" class=\"data row3 col2\" >produce the boolean assessment. We need to ensure the text outlines a detailed engineer's functional description of how a specific smart contract is designed to...</td>\n",
       "      <td id=\"T_e17f1_row3_col3\" class=\"data row3 col3\" >False</td>\n",
       "      <td id=\"T_e17f1_row3_col4\" class=\"data row3 col4\" >✔️ [True]</td>\n",
       "    </tr>\n",
       "    <tr>\n",
       "      <th id=\"T_e17f1_level0_row4\" class=\"row_heading level0 row4\" >4</th>\n",
       "      <td id=\"T_e17f1_row4_col0\" class=\"data row4 col0\" >Design a smart contract that tracks and rates fan interactions for each content piece. Fans earn points that influence their ranking on the platform, with...</td>\n",
       "      <td id=\"T_e17f1_row4_col1\" class=\"data row4 col1\" >True</td>\n",
       "      <td id=\"T_e17f1_row4_col2\" class=\"data row4 col2\" >produce the boolean assessment. We will first look at the provided description, then consider the structure and content to determine if it delivers a detailed...</td>\n",
       "      <td id=\"T_e17f1_row4_col3\" class=\"data row4 col3\" >True</td>\n",
       "      <td id=\"T_e17f1_row4_col4\" class=\"data row4 col4\" >✔️ [True]</td>\n",
       "    </tr>\n",
       "    <tr>\n",
       "      <th id=\"T_e17f1_level0_row5\" class=\"row_heading level0 row5\" >5</th>\n",
       "      <td id=\"T_e17f1_row5_col0\" class=\"data row5 col0\" >An automated feature rollout system in software development could employ mechanisms akin to those in smart contracts to ensure seamless and error-free deployment of new...</td>\n",
       "      <td id=\"T_e17f1_row5_col1\" class=\"data row5 col1\" >False</td>\n",
       "      <td id=\"T_e17f1_row5_col2\" class=\"data row5 col2\" >produce the boolean assessment. We need to consider if the text provides a detailed engineer's functional description of how a specific smart contract is designed...</td>\n",
       "      <td id=\"T_e17f1_row5_col3\" class=\"data row5 col3\" >False</td>\n",
       "      <td id=\"T_e17f1_row5_col4\" class=\"data row5 col4\" >✔️ [True]</td>\n",
       "    </tr>\n",
       "    <tr>\n",
       "      <th id=\"T_e17f1_level0_row6\" class=\"row_heading level0 row6\" >6</th>\n",
       "      <td id=\"T_e17f1_row6_col0\" class=\"data row6 col0\" >Implement an ERC-721-based smart contract for auctioning limited VIP tickets to fans for a concert. Each ticket is represented as a unique token. Limit each...</td>\n",
       "      <td id=\"T_e17f1_row6_col1\" class=\"data row6 col1\" >True</td>\n",
       "      <td id=\"T_e17f1_row6_col2\" class=\"data row6 col2\" >produce the boolean assessment. We will first review the provided description and analyze the structure and content to determine if it delivers a detailed engineer’s...</td>\n",
       "      <td id=\"T_e17f1_row6_col3\" class=\"data row6 col3\" >True</td>\n",
       "      <td id=\"T_e17f1_row6_col4\" class=\"data row6 col4\" >✔️ [True]</td>\n",
       "    </tr>\n",
       "    <tr>\n",
       "      <th id=\"T_e17f1_level0_row7\" class=\"row_heading level0 row7\" >7</th>\n",
       "      <td id=\"T_e17f1_row7_col0\" class=\"data row7 col0\" >In the realm of professional networking, a Virtual Handshake Protocol could mirror the functionalities of a smart contract by automating connections and endorsements based on...</td>\n",
       "      <td id=\"T_e17f1_row7_col1\" class=\"data row7 col1\" >False</td>\n",
       "      <td id=\"T_e17f1_row7_col2\" class=\"data row7 col2\" >produce the boolean assessment. We need to verify if the text provides a detailed engineer's functional description of how a specific smart contract is designed...</td>\n",
       "      <td id=\"T_e17f1_row7_col3\" class=\"data row7 col3\" >False</td>\n",
       "      <td id=\"T_e17f1_row7_col4\" class=\"data row7 col4\" >✔️ [True]</td>\n",
       "    </tr>\n",
       "    <tr>\n",
       "      <th id=\"T_e17f1_level0_row8\" class=\"row_heading level0 row8\" >8</th>\n",
       "      <td id=\"T_e17f1_row8_col0\" class=\"data row8 col0\" >Educational platforms are exploring avenues similar to smart contracts for automating the issuance of certificates and managing course enrollments. By using predefined criteria, these platforms...</td>\n",
       "      <td id=\"T_e17f1_row8_col1\" class=\"data row8 col1\" >False</td>\n",
       "      <td id=\"T_e17f1_row8_col2\" class=\"data row8 col2\" >produce the boolean assessment. We need to consider if the text provides a detailed engineer's functional description of how a specific smart contract is designed...</td>\n",
       "      <td id=\"T_e17f1_row8_col3\" class=\"data row8 col3\" >False</td>\n",
       "      <td id=\"T_e17f1_row8_col4\" class=\"data row8 col4\" >✔️ [True]</td>\n",
       "    </tr>\n",
       "    <tr>\n",
       "      <th id=\"T_e17f1_level0_row9\" class=\"row_heading level0 row9\" >9</th>\n",
       "      <td id=\"T_e17f1_row9_col0\" class=\"data row9 col0\" >Design a smart contract to manage multiple subscription levels where fans pay a monthly fee in tokens to access exclusive content. Subscription levels include Basic...</td>\n",
       "      <td id=\"T_e17f1_row9_col1\" class=\"data row9 col1\" >True</td>\n",
       "      <td id=\"T_e17f1_row9_col2\" class=\"data row9 col2\" >produce the boolean assessment. We will first consider if the text provides a detailed engineer's functional description of how a specific smart contract is designed...</td>\n",
       "      <td id=\"T_e17f1_row9_col3\" class=\"data row9 col3\" >True</td>\n",
       "      <td id=\"T_e17f1_row9_col4\" class=\"data row9 col4\" >✔️ [True]</td>\n",
       "    </tr>\n",
       "    <tr>\n",
       "      <th id=\"T_e17f1_level0_row10\" class=\"row_heading level0 row10\" >10</th>\n",
       "      <td id=\"T_e17f1_row10_col0\" class=\"data row10 col0\" >In urban development, a 'City Contract' system could automate zoning and land use decisions based on real-time data and community input, much like a smart...</td>\n",
       "      <td id=\"T_e17f1_row10_col1\" class=\"data row10 col1\" >False</td>\n",
       "      <td id=\"T_e17f1_row10_col2\" class=\"data row10 col2\" >produced the boolean assessment. We would need to consider if the text provides a detailed engineer's functional description of how a specific smart contract is...</td>\n",
       "      <td id=\"T_e17f1_row10_col3\" class=\"data row10 col3\" >False</td>\n",
       "      <td id=\"T_e17f1_row10_col4\" class=\"data row10 col4\" >✔️ [True]</td>\n",
       "    </tr>\n",
       "    <tr>\n",
       "      <th id=\"T_e17f1_level0_row11\" class=\"row_heading level0 row11\" >11</th>\n",
       "      <td id=\"T_e17f1_row11_col0\" class=\"data row11 col0\" >Code binds agreement, Blocks chain truth in the ledger, Trust is automatic. Transactions secure, Ledger logs every action, Immutable trace. Contracts self-execute, Mistakes are past,...</td>\n",
       "      <td id=\"T_e17f1_row11_col1\" class=\"data row11 col1\" >False</td>\n",
       "      <td id=\"T_e17f1_row11_col2\" class=\"data row11 col2\" >produce the boolean assessment. We need to ensure that the text provides a detailed engineer’s functional description of how a specific smart contract is designed...</td>\n",
       "      <td id=\"T_e17f1_row11_col3\" class=\"data row11 col3\" >False</td>\n",
       "      <td id=\"T_e17f1_row11_col4\" class=\"data row11 col4\" >✔️ [True]</td>\n",
       "    </tr>\n",
       "    <tr>\n",
       "      <th id=\"T_e17f1_level0_row12\" class=\"row_heading level0 row12\" >12</th>\n",
       "      <td id=\"T_e17f1_row12_col0\" class=\"data row12 col0\" >This is a highly technical description of a Smart Contract.</td>\n",
       "      <td id=\"T_e17f1_row12_col1\" class=\"data row12 col1\" >False</td>\n",
       "      <td id=\"T_e17f1_row12_col2\" class=\"data row12 col2\" >produce the boolean assessment. We need to ensure that the text provides a detailed engineer's functional description of how a specific smart contract is designed...</td>\n",
       "      <td id=\"T_e17f1_row12_col3\" class=\"data row12 col3\" >False</td>\n",
       "      <td id=\"T_e17f1_row12_col4\" class=\"data row12 col4\" >✔️ [True]</td>\n",
       "    </tr>\n",
       "    <tr>\n",
       "      <th id=\"T_e17f1_level0_row13\" class=\"row_heading level0 row13\" >13</th>\n",
       "      <td id=\"T_e17f1_row13_col0\" class=\"data row13 col0\" >Imagine a digital marketing campaign that functions like a smart contract. Campaign elements are executed automatically based on audience engagement metrics. This could include the...</td>\n",
       "      <td id=\"T_e17f1_row13_col1\" class=\"data row13 col1\" >False</td>\n",
       "      <td id=\"T_e17f1_row13_col2\" class=\"data row13 col2\" >produce the boolean_assessment. We would need to provide a detailed engineer’s functional description of how one particular smart contract is designed to work programmatically post-deployment...</td>\n",
       "      <td id=\"T_e17f1_row13_col3\" class=\"data row13 col3\" >False</td>\n",
       "      <td id=\"T_e17f1_row13_col4\" class=\"data row13 col4\" >✔️ [True]</td>\n",
       "    </tr>\n",
       "    <tr>\n",
       "      <th id=\"T_e17f1_level0_row14\" class=\"row_heading level0 row14\" >14</th>\n",
       "      <td id=\"T_e17f1_row14_col0\" class=\"data row14 col0\" >Implement a blockchain contract to manage 50,000 tokens available for a concert, with each token representing one ticket. Users are limited to purchasing one ticket...</td>\n",
       "      <td id=\"T_e17f1_row14_col1\" class=\"data row14 col1\" >True</td>\n",
       "      <td id=\"T_e17f1_row14_col2\" class=\"data row14 col2\" >produce the boolean assessment. We have provided a detailed engineer's functional description of how one particular smart contract is designed to work programmatically post-deployment.</td>\n",
       "      <td id=\"T_e17f1_row14_col3\" class=\"data row14 col3\" >True</td>\n",
       "      <td id=\"T_e17f1_row14_col4\" class=\"data row14 col4\" >✔️ [True]</td>\n",
       "    </tr>\n",
       "  </tbody>\n",
       "</table>\n"
      ],
      "text/plain": [
       "<pandas.io.formats.style.Styler at 0x7faf3587f610>"
      ]
     },
     "metadata": {},
     "output_type": "display_data"
    },
    {
     "data": {
      "text/plain": [
       "100.0"
      ]
     },
     "execution_count": 33,
     "metadata": {},
     "output_type": "execute_result"
    }
   ],
   "source": [
    "verbose_output = False # during training and assessment\n",
    "\n",
    "class AssessSubject(dspy.Signature):\n",
    "    \"\"\"Check that the text delivers a detailed engineer's functional description of how one particular smart contract is designed to work programmatically post-deployment.\"\"\"\n",
    "    smart_contract_description: str = dspy.InputField(desc=\"A description of a Smart Contract\")\n",
    "    boolean_assessment: bool = dspy.OutputField(desc=\"True/False indicating if text is about Smart Contracts\")\n",
    "\n",
    "class AssessSubjectModule(dspy.Module):\n",
    "    \"\"\"A module to verify if the description consists of a precise functional description of how a specific smart contract should work.\"\"\"\n",
    "    def __init__(self):\n",
    "        super().__init__()\n",
    "        self.generate_answer = dspy.functional.TypedChainOfThought(AssessSubject)\n",
    "\n",
    "    def forward(self, smart_contract_description: str) -> bool:\n",
    "        # It cannot be the boolean_assessment output parameter directly, or the teleprompting won't work.\n",
    "        return self.generate_answer(smart_contract_description=smart_contract_description)\n",
    "\n",
    "def metric(example, prediction, trace=None):\n",
    "\n",
    "    if verbose_output:\n",
    "        print(f\"Defined function 'metric' called on\\n{' '*4}{example}\")\n",
    "        print(f\"Generated prediction is\\n{' '*4}{prediction.reasoning}\")\n",
    "        print(f\"{' '*4}>> Real-value/Predicted-value : {example.boolean_assessment} | {prediction.boolean_assessment}\\n\")\n",
    "        \n",
    "    return example.boolean_assessment == prediction.boolean_assessment # TODO: Moved from the forward prediction return\n",
    "\n",
    "from dspy.teleprompt import BootstrapFewShot\n",
    "config = dict(max_bootstrapped_demos=len(examples_for_training)) # max_labeled_demos=4\n",
    "teleprompter = BootstrapFewShot(metric=metric, **config)\n",
    "teleprompter.max_errors = 0\n",
    "optimised_program = teleprompter.compile(AssessSubjectModule(), trainset=examples_for_training, valset=examples_for_testing)\n",
    "# It doesnt use 'valset' for training (run in Jupyter loads automatically even if changed)\n",
    "\n",
    "from dspy.evaluate import Evaluate\n",
    "evaluate_program = Evaluate(metric=metric, devset=examples_for_testing, num_threads=1, display_progress=True, display_table=18)\n",
    "evaluate_program(optimised_program)\n",
    "# FIXME: argument 'bool' type is not iterable (for Evaluate); weird stuff."
   ]
  },
  {
   "cell_type": "code",
   "execution_count": 34,
   "metadata": {},
   "outputs": [
    {
     "name": "stdout",
     "output_type": "stream",
     "text": [
      "Average Metric: 2 / 2  (100.0):   7%|▋         | 1/15 [00:00<00:00, 53.41it/s]"
     ]
    },
    {
     "name": "stdout",
     "output_type": "stream",
     "text": [
      "Average Metric: 15 / 15  (100.0): 100%|██████████| 15/15 [00:00<00:00, 109.10it/s]\n"
     ]
    },
    {
     "data": {
      "text/plain": [
       "100.0"
      ]
     },
     "execution_count": 34,
     "metadata": {},
     "output_type": "execute_result"
    }
   ],
   "source": [
    "from dspy.evaluate import Evaluate\n",
    "evaluate_program = Evaluate(metric=metric, devset=examples_for_testing, num_threads=1, display_progress=True, display_table=True)\n",
    "evaluate_program(optimised_program)\n",
    "# FIXME: argument 'bool' type is not iterable (for Evaluate); weird stuff."
   ]
  },
  {
   "cell_type": "code",
   "execution_count": 38,
   "metadata": {},
   "outputs": [
    {
     "data": {
      "text/plain": [
       "Prediction(\n",
       "    reasoning='produce the boolean assessment. We will first look at the provided description and then consider the structure and content to determine if it delivers a detailed engineer’s functional description of how one particular smart contract is designed to work post-deployment.',\n",
       "    boolean_assessment=True\n",
       ")"
      ]
     },
     "execution_count": 38,
     "metadata": {},
     "output_type": "execute_result"
    }
   ],
   "source": [
    "optimised_program.forward(\"\")"
   ]
  },
  {
   "cell_type": "code",
   "execution_count": 67,
   "metadata": {},
   "outputs": [
    {
     "ename": "NameError",
     "evalue": "name 'description' is not defined",
     "output_type": "error",
     "traceback": [
      "\u001b[1;31m---------------------------------------------------------------------------\u001b[0m",
      "\u001b[1;31mNameError\u001b[0m                                 Traceback (most recent call last)",
      "Cell \u001b[1;32mIn[67], line 24\u001b[0m\n\u001b[0;32m     22\u001b[0m \u001b[38;5;66;03m# Example usage of the module\u001b[39;00m\n\u001b[0;32m     23\u001b[0m module \u001b[38;5;241m=\u001b[39m RateComplexityModule()\n\u001b[1;32m---> 24\u001b[0m rating \u001b[38;5;241m=\u001b[39m module\u001b[38;5;241m.\u001b[39mforward(\u001b[43mdescription\u001b[49m)\n\u001b[0;32m     25\u001b[0m \u001b[38;5;28mprint\u001b[39m(rating)\n\u001b[0;32m     27\u001b[0m \u001b[38;5;66;03m# gpt3_turbo.inspect_history(n=1)\u001b[39;00m\n\u001b[0;32m     28\u001b[0m \n\u001b[0;32m     29\u001b[0m \n\u001b[0;32m     30\u001b[0m \u001b[38;5;66;03m### COMPILATION ########################################################################\u001b[39;00m\n\u001b[0;32m     31\u001b[0m \n\u001b[0;32m     32\u001b[0m \u001b[38;5;66;03m# must match \"forward\" function arguments\u001b[39;00m\n",
      "\u001b[1;31mNameError\u001b[0m: name 'description' is not defined"
     ]
    }
   ],
   "source": [
    "import pydantic\n",
    "\n",
    "# Pydantic model to define the output structure\n",
    "class OutputRate(pydantic.BaseModel):\n",
    "    parameter: int\n",
    "\n",
    "class RateCompexity(dspy.Signature):\n",
    "    \"\"\"Rate the technical completeness of the smart contract description on a scale of 1 to 10\"\"\"\n",
    "    smart_contract_description: str = dspy.InputField(desc=\"A description of a Smart Contract\")\n",
    "    complexity_score: OutputRate = dspy.OutputField(desc=\"A rating from 1 to 10\")\n",
    "\n",
    "class RateComplexityModule(dspy.Module):\n",
    "    \"\"\"A module to rate the technical completeness of a smart contract description\"\"\"\n",
    "    def __init__(self):\n",
    "        super().__init__()\n",
    "        self.generate_answer = dspy.functional.TypedChainOfThought(RateCompexity)\n",
    "\n",
    "    def forward(self, description: str) -> int:\n",
    "        pred = self.generate_answer(smart_contract_description=description)\n",
    "        return pred.complexity_score.parameter\n",
    "\n",
    "# Example usage of the module\n",
    "module = RateComplexityModule()\n",
    "rating = module.forward(description)\n",
    "print(rating)\n",
    "\n",
    "# gpt3_turbo.inspect_history(n=1)\n",
    "\n",
    "\n",
    "### COMPILATION ########################################################################\n",
    "\n",
    "# must match \"forward\" function arguments\n",
    "trainset = [\n",
    "    dspy.Example(smart_contract_description=description, complexity_score=0).with_inputs(\"description\"),\n",
    "]\n",
    "\n",
    "# first_data_point = trainset[0]\n",
    "# print(first_data_point.inputs())\n",
    "# print(first_data_point.labels())\n",
    "\n",
    "from dspy.teleprompt import BootstrapFewShot\n",
    "\n",
    "# Validation logic: check that the predicted answer is correct.\n",
    "def validate_assessment(example, pred, trace=None):\n",
    "    ### answer_EM = dspy.evaluate.answer_exact_match(smart_contract_description, complexity_score)\n",
    "    answer_match = example.complexity_score == pred.complexity_score\n",
    "    return answer_match\n",
    "\n",
    "teleprompter = BootstrapFewShot(metric=validate_assessment) # or dspy.evaluate.answer_exact_amtch\n",
    "compiled_module = teleprompter.compile(RateComplexityModule(), trainset=trainset)\n",
    "# compiled_module.save(\".\")\n",
    "# loaded_program = YOUR_PROGRAM_CLASS()\n",
    "# loaded_program.load(path=YOUR_SAVE_PATH)\n",
    "\n",
    "devset = [\n",
    "    dspy.Example(smart_contract_description=description, complexity_score=5).with_inputs(\"description\")\n",
    "]\n",
    "\n",
    "print('#')\n",
    "\n",
    "from dspy.evaluate import Evaluate\n",
    "\n",
    "# Set up the evaluator, which can be re-used in your code.\n",
    "evaluator = Evaluate(devset=devset, num_threads=1, display_progress=True, display_table=5)\n",
    "\n",
    "# Launch evaluation.\n",
    "evaluator(compiled_module, metric=validate_assessment)"
   ]
  },
  {
   "cell_type": "code",
   "execution_count": 57,
   "metadata": {},
   "outputs": [
    {
     "name": "stdout",
     "output_type": "stream",
     "text": [
      "['buyer request refund', 'compensation based on current state of sale (in progress or cancelled)', 'seller authorization for refund initiation', 'refund amount calculation based on sale state', 'no refund if sale is not in progress']\n"
     ]
    }
   ],
   "source": [
    "import pydantic\n",
    "from typing import List\n",
    "description = A1\n",
    "\n",
    "class RequirementsList(pydantic.BaseModel):\n",
    "    parameter: List[str]\n",
    "\n",
    "class ExtractRequirements(dspy.Signature):\n",
    "    \"\"\"Extract requirements from a Smart Contract Description\"\"\"\n",
    "    smart_contract_description: str = dspy.InputField(desc=\"A description of a Smart Contract\")\n",
    "    requirements_list: RequirementsList = dspy.OutputField(desc=\"A list object with extracted requirements\")\n",
    "\n",
    "class ExtractRequirementsModule(dspy.Module):\n",
    "    \"\"\"A module to extract requirements from a Smart Contract Description\"\"\"\n",
    "    def __init__(self):\n",
    "        super().__init__()\n",
    "        self.generate_answer = dspy.functional.TypedPredictor(ExtractRequirements)\n",
    "\n",
    "    def forward(self, description: str) -> RequirementsList:\n",
    "        pred = self.generate_answer(smart_contract_description=description)\n",
    "        return pred.requirements_list.parameter\n",
    "\n",
    "module = ExtractRequirementsModule()\n",
    "list_of_requirements = module.forward(description)\n",
    "print(list_of_requirements)\n",
    "\n",
    "# gpt3_turbo.inspect_history(n=1)"
   ]
  },
  {
   "cell_type": "code",
   "execution_count": 42,
   "metadata": {},
   "outputs": [
    {
     "name": "stdout",
     "output_type": "stream",
     "text": [
      "{'Name': 'Buyer Refund Request', 'Scope': 'Smart contract for refund process', 'Input': ['Buyer request', 'Sale status'], 'Constraints': 'Only seller can initiate refund process', 'Output': 'Fair compensation for buyer', 'PrimaryScenario': 'If sale in progress, refund of twice the initial value', 'AlternativeScenario': 'No refund if sale not in progress'}\n",
      "{'Name': 'Compensation based on current state of sale', 'Scope': 'Smart contract refund process', 'Input': ['Buyer request for refund', 'Current state of the sale (in progress or cancelled)'], 'Constraints': 'Only seller authorized to initiate refund process', 'Output': 'Fair compensation for buyer if sale is cancelled', 'PrimaryScenario': 'If sale is in progress and seller decides not to proceed, buyer receives a refund of twice the value paid initially', 'AlternativeScenario': 'No refund issued if sale is not in progress'}\n",
      "{'Name': 'Seller Authorization for Refund Initiation', 'Scope': 'Smart Contract for Buyer Refunds', 'Input': ['Buyer request for refund', 'Current state of the sale (in progress or cancelled)'], 'Constraints': 'Only the seller is authorized to initiate the refund process', 'Output': 'Fair compensation for the buyer in case of sale cancellation', 'PrimaryScenario': 'If the sale is in progress and the seller decides not to proceed, the buyer should receive a refund of twice the value they paid initially', 'AlternativeScenario': 'If the sale is not in progress, no refund will be issued'}\n",
      "{'Name': 'Refund Calculation', 'Scope': 'Smart Contract', 'Input': ['Buyer request for refund', 'Current state of sale'], 'Constraints': 'Seller authorization required, sale must be in progress', 'Output': 'Refund amount', 'PrimaryScenario': 'If sale is in progress, refund should be twice the initial value paid by the buyer', 'AlternativeScenario': 'If sale is not in progress, no refund will be issued'}\n",
      "{'Name': 'Refund Policy', 'Scope': 'Smart Contract', 'Input': [], 'Constraints': 'Sale must be in progress for refund to be issued', 'Output': 'Refund amount', 'PrimaryScenario': 'If sale is in progress and seller decides not to proceed, buyer receives a refund of twice the initial value', 'AlternativeScenario': 'If sale is not in progress, no refund will be issued'}\n"
     ]
    }
   ],
   "source": [
    "import pydantic\n",
    "from typing import List\n",
    "\n",
    "class Requirement(pydantic.BaseModel):\n",
    "    Name: str\n",
    "    Scope: str\n",
    "    Input: List[str]\n",
    "    Constraints: str\n",
    "    Output: str\n",
    "    PrimaryScenario: str\n",
    "    AlternativeScenario: str\n",
    "\n",
    "class generate_attributes(dspy.Signature):\n",
    "    \"\"\"Generate attributes for the given attribute description.\"\"\"\n",
    "    smart_contract_description: str = dspy.InputField(desc=\"Context of the requirement\")\n",
    "    requirement_description: str = dspy.InputField()\n",
    "    structured_requirement: Requirement = dspy.OutputField(desc=\"Structured list of requirement attributes\")\n",
    "\n",
    "class GenerateAttributesModule(dspy.Module):\n",
    "    \"\"\"A module to process multiple requirement descriptions into structured JSON.\"\"\"\n",
    "\n",
    "    def __init__(self):\n",
    "        super().__init__()\n",
    "        self.generate_answer = dspy.functional.TypedPredictor(generate_attributes)\n",
    "    \n",
    "    def forward(self, description: str, requirement: str) -> Requirement:\n",
    "        pred = self.generate_answer(\n",
    "            smart_contract_description=description,\n",
    "            requirement_description=requirement\n",
    "            )\n",
    "        return pred.structured_requirement\n",
    "\n",
    "req_module = GenerateAttributesModule()\n",
    "# List of requirements has multiple strings inside.\n",
    "for requirement in list_of_requirements:\n",
    "    attributes = req_module.forward(description, requirement)\n",
    "    print(attributes.dict())\n",
    "\n",
    "# gpt3_turbo.inspect_history(n=1)"
   ]
  }
 ],
 "metadata": {
  "kernelspec": {
   "display_name": ".venv",
   "language": "python",
   "name": "python3"
  },
  "language_info": {
   "codemirror_mode": {
    "name": "ipython",
    "version": 3
   },
   "file_extension": ".py",
   "mimetype": "text/x-python",
   "name": "python",
   "nbconvert_exporter": "python",
   "pygments_lexer": "ipython3",
   "version": "3.10.12"
  }
 },
 "nbformat": 4,
 "nbformat_minor": 2
}
