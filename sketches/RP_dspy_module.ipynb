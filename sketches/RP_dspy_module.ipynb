{
 "cells": [
  {
   "cell_type": "code",
   "execution_count": null,
   "metadata": {},
   "outputs": [
    {
     "name": "stderr",
     "output_type": "stream",
     "text": [
      "g:\\Mi unidad\\SONY-GATEWAY\\MaLB-SC-generation-module\\.venv\\Lib\\site-packages\\tqdm\\auto.py:21: TqdmWarning: IProgress not found. Please update jupyter and ipywidgets. See https://ipywidgets.readthedocs.io/en/stable/user_install.html\n",
      "  from .autonotebook import tqdm as notebook_tqdm\n"
     ]
    }
   ],
   "source": [
    "%load_ext autoreload\n",
    "%autoreload 2\n",
    "\n",
    "import sys\n",
    "import os\n",
    "\n",
    "try: # When on google Colab, let's clone the notebook so we download the cache.\n",
    "    import google.colab\n",
    "    repo_path = 'dspy'\n",
    "    !git -C $repo_path pull origin || git clone https://github.com/stanfordnlp/dspy $repo_path\n",
    "except:\n",
    "    repo_path = '.'\n",
    "\n",
    "if repo_path not in sys.path:\n",
    "    sys.path.append(repo_path)\n",
    "\n",
    "# Set up the cache for this notebook\n",
    "os.environ[\"DSP_NOTEBOOK_CACHEDIR\"] = os.path.join(repo_path, 'cache')\n",
    "\n",
    "import pkg_resources # Install the package if it's not installed\n",
    "if not \"dspy-ai\" in {pkg.key for pkg in pkg_resources.working_set}:\n",
    "    !pip install -U pip\n",
    "    !pip install dspy-ai\n",
    "    !pip install openai~=0.28.1\n",
    "    # !pip install -e $repo_path"
   ]
  },
  {
   "cell_type": "code",
   "execution_count": 1,
   "metadata": {
    "metadata": {}
   },
   "outputs": [
    {
     "name": "stderr",
     "output_type": "stream",
     "text": [
      "g:\\Mi unidad\\SONY-GATEWAY\\MaLB-SC-generation-module\\.venv\\Lib\\site-packages\\tqdm\\auto.py:21: TqdmWarning: IProgress not found. Please update jupyter and ipywidgets. See https://ipywidgets.readthedocs.io/en/stable/user_install.html\n",
      "  from .autonotebook import tqdm as notebook_tqdm\n"
     ]
    }
   ],
   "source": [
    "import dspy"
   ]
  },
  {
   "cell_type": "code",
   "execution_count": 4,
   "metadata": {},
   "outputs": [],
   "source": [
    "gpt4_turbo = dspy.OpenAI(model='gpt-4-1106-preview', max_tokens=300)\n",
    "gpt3_turbo = dspy.OpenAI(model='gpt-3.5-turbo-1106', max_tokens=300, temperature=1)\n",
    "\n",
    "dspy.settings.configure(lm=gpt3_turbo, max_tokens=1024)"
   ]
  },
  {
   "cell_type": "code",
   "execution_count": 67,
   "metadata": {},
   "outputs": [],
   "source": [
    "A1 = \"\"\"\n",
    "When a buyer requests a refund, the smart contract should compensate them fairly. To achieve this, the contract needs to consider the buyer and the current state of the sale, such as whether it's in progress or cancelled. Only the seller is authorized to initiate the refund process, ensuring that refunds are legitimate and secure. In the primary scenario, if the sale is in progress, the buyer should receive a refund of twice the value they paid initially if the seller decides not to proceed with the sale. However, if the sale is not in progress, no refund will be issued. This requirement ensures that buyers are fairly compensated in case of a sale cancellation, while also protecting sellers from unauthorized refunds\n",
    "\"\"\"\n",
    "\n",
    "A2 = \"\"\"\n",
    "A smart contract is a self-executing contract with the terms of the agreement between buyer and seller being directly written into lines of code. The code and the agreements contained therein exist across a distributed, decentralized blockchain network. The code controls the execution, and transactions are trackable and irreversible.\n",
    "\"\"\"\n",
    "\n",
    "A3 = \"\"\"\n",
    "I have a blockchain 3 business and I want to improve the efficiency of it by implementing smart contracts.\n",
    "\"\"\""
   ]
  },
  {
   "cell_type": "code",
   "execution_count": 54,
   "metadata": {},
   "outputs": [
    {
     "name": "stdout",
     "output_type": "stream",
     "text": [
      "True\n"
     ]
    }
   ],
   "source": [
    "import pydantic\n",
    "description = A1\n",
    "\n",
    "class IsAboutSmartContracts(pydantic.BaseModel):\n",
    "    parameter: bool\n",
    "\n",
    "class AssessSubject(dspy.Signature):\n",
    "    \"\"\"Verify that the description talks about Smart Contracts\"\"\"\n",
    "    smart_contract_description: str = dspy.InputField(desc=\"A description of a Smart Contract\")\n",
    "    boolean_assessment: IsAboutSmartContracts = dspy.OutputField(desc=\"True/False indicating if text is about Smart Contracts\")\n",
    "\n",
    "class AssessSubjectModule(dspy.Module):\n",
    "    \"\"\"A module to verify if the description is about Smart Contracts\"\"\"\n",
    "    def __init__(self):\n",
    "        super().__init__()\n",
    "        self.generate_answer = dspy.functional.TypedChainOfThought(AssessSubject)\n",
    "\n",
    "    def forward(self, description: str) -> IsAboutSmartContracts:\n",
    "        pred = self.generate_answer(smart_contract_description=description)\n",
    "        return pred.boolean_assessment.parameter\n",
    "\n",
    "# Example usage\n",
    "module = AssessSubjectModule()\n",
    "result = module.forward(description)\n",
    "print(result)\n",
    "\n",
    "# gpt3_turbo.inspect_history(n=1)"
   ]
  },
  {
   "cell_type": "code",
   "execution_count": 70,
   "metadata": {},
   "outputs": [
    {
     "name": "stdout",
     "output_type": "stream",
     "text": [
      "8\n"
     ]
    },
    {
     "ename": "AttributeError",
     "evalue": "module 'dspy' has no attribute 'BootstrapFewShot'",
     "output_type": "error",
     "traceback": [
      "\u001b[1;31m---------------------------------------------------------------------------\u001b[0m",
      "\u001b[1;31mAttributeError\u001b[0m                            Traceback (most recent call last)",
      "Cell \u001b[1;32mIn[70], line 38\u001b[0m\n\u001b[0;32m     28\u001b[0m \u001b[38;5;66;03m# gpt3_turbo.inspect_history(n=1)\u001b[39;00m\n\u001b[0;32m     29\u001b[0m \n\u001b[0;32m     30\u001b[0m \n\u001b[0;32m     31\u001b[0m \u001b[38;5;66;03m### COMPILATION ########################################################################\u001b[39;00m\n\u001b[0;32m     32\u001b[0m \n\u001b[0;32m     33\u001b[0m \u001b[38;5;66;03m# must match \"forward\" function arguments\u001b[39;00m\n\u001b[0;32m     34\u001b[0m trainset \u001b[38;5;241m=\u001b[39m [\n\u001b[0;32m     35\u001b[0m     dspy\u001b[38;5;241m.\u001b[39mExample(smart_contract_description\u001b[38;5;241m=\u001b[39mdescription, complexity_score\u001b[38;5;241m=\u001b[39m\u001b[38;5;241m0\u001b[39m)\u001b[38;5;241m.\u001b[39mwith_inputs(\u001b[38;5;124m\"\u001b[39m\u001b[38;5;124mdescription\u001b[39m\u001b[38;5;124m\"\u001b[39m),\n\u001b[0;32m     36\u001b[0m ]\n\u001b[1;32m---> 38\u001b[0m teleprompter \u001b[38;5;241m=\u001b[39m \u001b[43mdspy\u001b[49m\u001b[38;5;241;43m.\u001b[39;49m\u001b[43mBootstrapFewShot\u001b[49m(metric\u001b[38;5;241m=\u001b[39mdspy\u001b[38;5;241m.\u001b[39mevaluate\u001b[38;5;241m.\u001b[39manswer_exact_match)\n\u001b[0;32m     39\u001b[0m compiled_rag \u001b[38;5;241m=\u001b[39m teleprompter\u001b[38;5;241m.\u001b[39mcompile(RateComplexityModule(), trainset\u001b[38;5;241m=\u001b[39mtrainset)\n\u001b[0;32m     41\u001b[0m \u001b[38;5;66;03m# # first_data_point = trainset[0]\u001b[39;00m\n\u001b[0;32m     42\u001b[0m \u001b[38;5;66;03m# # print(first_data_point.inputs())\u001b[39;00m\n\u001b[0;32m     43\u001b[0m \u001b[38;5;66;03m# # print(first_data_point.labels())\u001b[39;00m\n\u001b[1;32m   (...)\u001b[0m\n\u001b[0;32m     60\u001b[0m \u001b[38;5;66;03m#     dspy.Example(smart_contract_description=description, complexity_score=5).with_inputs(\"description\")\u001b[39;00m\n\u001b[0;32m     61\u001b[0m \u001b[38;5;66;03m# ]\u001b[39;00m\n",
      "\u001b[1;31mAttributeError\u001b[0m: module 'dspy' has no attribute 'BootstrapFewShot'"
     ]
    }
   ],
   "source": [
    "import pydantic\n",
    "description = A1\n",
    "\n",
    "# Pydantic model to define the output structure\n",
    "class OutputRate(pydantic.BaseModel):\n",
    "    parameter: int\n",
    "\n",
    "class RateCompexity(dspy.Signature):\n",
    "    \"\"\"Rate the technical completeness of the smart contract description on a scale of 1 to 10\"\"\"\n",
    "    smart_contract_description: str = dspy.InputField(desc=\"A description of a Smart Contract\")\n",
    "    complexity_score: OutputRate = dspy.OutputField(desc=\"A rating from 1 to 10\")\n",
    "\n",
    "class RateComplexityModule(dspy.Module):\n",
    "    \"\"\"A module to rate the technical completeness of a smart contract description\"\"\"\n",
    "    def __init__(self):\n",
    "        super().__init__()\n",
    "        self.generate_answer = dspy.functional.TypedChainOfThought(RateCompexity)\n",
    "\n",
    "    def forward(self, description: str) -> int:\n",
    "        pred = self.generate_answer(smart_contract_description=description)\n",
    "        return pred.complexity_score.parameter\n",
    "\n",
    "# Example usage of the module\n",
    "module = RateComplexityModule()\n",
    "rating = module.forward(description)\n",
    "print(rating)\n",
    "\n",
    "# gpt3_turbo.inspect_history(n=1)\n",
    "\n",
    "\n",
    "### COMPILATION ########################################################################\n",
    "\n",
    "# must match \"forward\" function arguments\n",
    "trainset = [\n",
    "    dspy.Example(smart_contract_description=description, complexity_score=0).with_inputs(\"description\"),\n",
    "]\n",
    "\n",
    "# first_data_point = trainset[0]\n",
    "# print(first_data_point.inputs())\n",
    "# print(first_data_point.labels())\n",
    "\n",
    "from dspy.teleprompt import BootstrapFewShot\n",
    "\n",
    "# Validation logic: check that the predicted answer is correct.\n",
    "def validate_assessment(example, pred, trace=None):\n",
    "    ### answer_EM = dspy.evaluate.answer_exact_match(smart_contract_description, complexity_score)\n",
    "    answer_match = example.complexity_score == pred.complexity_score\n",
    "    return answer_match\n",
    "\n",
    "teleprompter = BootstrapFewShot(metric=validate_assessment) # or dspy.evaluate.answer_exact_amtch\n",
    "compiled_module = teleprompter.compile(RateComplexityModule(), trainset=trainset)\n",
    "# compiled_module.save(\".\")\n",
    "# loaded_program = YOUR_PROGRAM_CLASS()\n",
    "# loaded_program.load(path=YOUR_SAVE_PATH)\n",
    "\n",
    "devset = [\n",
    "    dspy.Example(smart_contract_description=description, complexity_score=5).with_inputs(\"description\")\n",
    "]\n",
    "\n",
    "print('#')\n",
    "\n",
    "from dspy.evaluate import Evaluate\n",
    "\n",
    "# Set up the evaluator, which can be re-used in your code.\n",
    "evaluator = Evaluate(devset=devset, num_threads=1, display_progress=True, display_table=5)\n",
    "\n",
    "# Launch evaluation.\n",
    "evaluator(compiled_module, metric=validate_assessment)"
   ]
  },
  {
   "cell_type": "code",
   "execution_count": 57,
   "metadata": {},
   "outputs": [
    {
     "name": "stdout",
     "output_type": "stream",
     "text": [
      "['buyer request refund', 'compensation based on current state of sale (in progress or cancelled)', 'seller authorization for refund initiation', 'refund amount calculation based on sale state', 'no refund if sale is not in progress']\n"
     ]
    }
   ],
   "source": [
    "import pydantic\n",
    "from typing import List\n",
    "description = A1\n",
    "\n",
    "class RequirementsList(pydantic.BaseModel):\n",
    "    parameter: List[str]\n",
    "\n",
    "class ExtractRequirements(dspy.Signature):\n",
    "    \"\"\"Extract requirements from a Smart Contract Description\"\"\"\n",
    "    smart_contract_description: str = dspy.InputField(desc=\"A description of a Smart Contract\")\n",
    "    requirements_list: RequirementsList = dspy.OutputField(desc=\"A list object with extracted requirements\")\n",
    "\n",
    "class ExtractRequirementsModule(dspy.Module):\n",
    "    \"\"\"A module to extract requirements from a Smart Contract Description\"\"\"\n",
    "    def __init__(self):\n",
    "        super().__init__()\n",
    "        self.generate_answer = dspy.functional.TypedPredictor(ExtractRequirements)\n",
    "\n",
    "    def forward(self, description: str) -> RequirementsList:\n",
    "        pred = self.generate_answer(smart_contract_description=description)\n",
    "        return pred.requirements_list.parameter\n",
    "\n",
    "module = ExtractRequirementsModule()\n",
    "list_of_requirements = module.forward(description)\n",
    "print(list_of_requirements)\n",
    "\n",
    "# gpt3_turbo.inspect_history(n=1)"
   ]
  },
  {
   "cell_type": "code",
   "execution_count": 42,
   "metadata": {},
   "outputs": [
    {
     "name": "stdout",
     "output_type": "stream",
     "text": [
      "{'Name': 'Buyer Refund Request', 'Scope': 'Smart contract for refund process', 'Input': ['Buyer request', 'Sale status'], 'Constraints': 'Only seller can initiate refund process', 'Output': 'Fair compensation for buyer', 'PrimaryScenario': 'If sale in progress, refund of twice the initial value', 'AlternativeScenario': 'No refund if sale not in progress'}\n",
      "{'Name': 'Compensation based on current state of sale', 'Scope': 'Smart contract refund process', 'Input': ['Buyer request for refund', 'Current state of the sale (in progress or cancelled)'], 'Constraints': 'Only seller authorized to initiate refund process', 'Output': 'Fair compensation for buyer if sale is cancelled', 'PrimaryScenario': 'If sale is in progress and seller decides not to proceed, buyer receives a refund of twice the value paid initially', 'AlternativeScenario': 'No refund issued if sale is not in progress'}\n",
      "{'Name': 'Seller Authorization for Refund Initiation', 'Scope': 'Smart Contract for Buyer Refunds', 'Input': ['Buyer request for refund', 'Current state of the sale (in progress or cancelled)'], 'Constraints': 'Only the seller is authorized to initiate the refund process', 'Output': 'Fair compensation for the buyer in case of sale cancellation', 'PrimaryScenario': 'If the sale is in progress and the seller decides not to proceed, the buyer should receive a refund of twice the value they paid initially', 'AlternativeScenario': 'If the sale is not in progress, no refund will be issued'}\n",
      "{'Name': 'Refund Calculation', 'Scope': 'Smart Contract', 'Input': ['Buyer request for refund', 'Current state of sale'], 'Constraints': 'Seller authorization required, sale must be in progress', 'Output': 'Refund amount', 'PrimaryScenario': 'If sale is in progress, refund should be twice the initial value paid by the buyer', 'AlternativeScenario': 'If sale is not in progress, no refund will be issued'}\n",
      "{'Name': 'Refund Policy', 'Scope': 'Smart Contract', 'Input': [], 'Constraints': 'Sale must be in progress for refund to be issued', 'Output': 'Refund amount', 'PrimaryScenario': 'If sale is in progress and seller decides not to proceed, buyer receives a refund of twice the initial value', 'AlternativeScenario': 'If sale is not in progress, no refund will be issued'}\n"
     ]
    }
   ],
   "source": [
    "import pydantic\n",
    "from typing import List\n",
    "\n",
    "class Requirement(pydantic.BaseModel):\n",
    "    Name: str\n",
    "    Scope: str\n",
    "    Input: List[str]\n",
    "    Constraints: str\n",
    "    Output: str\n",
    "    PrimaryScenario: str\n",
    "    AlternativeScenario: str\n",
    "\n",
    "class generate_attributes(dspy.Signature):\n",
    "    \"\"\"Generate attributes for the given attribute description.\"\"\"\n",
    "    smart_contract_description: str = dspy.InputField(desc=\"Context of the requirement\")\n",
    "    requirement_description: str = dspy.InputField()\n",
    "    structured_requirement: Requirement = dspy.OutputField(desc=\"Structured list of requirement attributes\")\n",
    "\n",
    "class GenerateAttributesModule(dspy.Module):\n",
    "    \"\"\"A module to process multiple requirement descriptions into structured JSON.\"\"\"\n",
    "\n",
    "    def __init__(self):\n",
    "        super().__init__()\n",
    "        self.generate_answer = dspy.functional.TypedPredictor(generate_attributes)\n",
    "    \n",
    "    def forward(self, description: str, requirement: str) -> Requirement:\n",
    "        pred = self.generate_answer(\n",
    "            smart_contract_description=description,\n",
    "            requirement_description=requirement\n",
    "            )\n",
    "        return pred.structured_requirement\n",
    "\n",
    "req_module = GenerateAttributesModule()\n",
    "# List of requirements has multiple strings inside.\n",
    "for requirement in list_of_requirements:\n",
    "    attributes = req_module.forward(description, requirement)\n",
    "    print(attributes.dict())\n",
    "\n",
    "# gpt3_turbo.inspect_history(n=1)"
   ]
  }
 ],
 "metadata": {
  "kernelspec": {
   "display_name": ".venv",
   "language": "python",
   "name": "python3"
  },
  "language_info": {
   "codemirror_mode": {
    "name": "ipython",
    "version": 3
   },
   "file_extension": ".py",
   "mimetype": "text/x-python",
   "name": "python",
   "nbconvert_exporter": "python",
   "pygments_lexer": "ipython3",
   "version": "3.11.1"
  }
 },
 "nbformat": 4,
 "nbformat_minor": 2
}
