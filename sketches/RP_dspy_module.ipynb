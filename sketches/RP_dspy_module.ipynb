{
 "cells": [
  {
   "cell_type": "code",
   "execution_count": 1,
   "metadata": {},
   "outputs": [
    {
     "name": "stderr",
     "output_type": "stream",
     "text": [
      "g:\\Mi unidad\\SONY-GATEWAY\\MaLB-SC-generation-module\\.venv\\Lib\\site-packages\\tqdm\\auto.py:21: TqdmWarning: IProgress not found. Please update jupyter and ipywidgets. See https://ipywidgets.readthedocs.io/en/stable/user_install.html\n",
      "  from .autonotebook import tqdm as notebook_tqdm\n"
     ]
    }
   ],
   "source": [
    "import dspy"
   ]
  },
  {
   "cell_type": "code",
   "execution_count": 2,
   "metadata": {},
   "outputs": [],
   "source": [
    "gpt4_turbo = dspy.OpenAI(model='gpt-4-1106-preview', max_tokens=300)\n",
    "gpt3_turbo = dspy.OpenAI(model='gpt-3.5-turbo-1106', max_tokens=300, temperature=1)\n",
    "\n",
    "dspy.settings.configure(lm=gpt3_turbo, max_tokens=1024)"
   ]
  },
  {
   "cell_type": "code",
   "execution_count": 3,
   "metadata": {},
   "outputs": [],
   "source": [
    "A1 = \"\"\"\n",
    "When a buyer requests a refund, the smart contract should compensate them fairly. To achieve this, the contract needs to consider the buyer and the current state of the sale, such as whether it's in progress or cancelled. Only the seller is authorized to initiate the refund process, ensuring that refunds are legitimate and secure. In the primary scenario, if the sale is in progress, the buyer should receive a refund of twice the value they paid initially if the seller decides not to proceed with the sale. However, if the sale is not in progress, no refund will be issued. This requirement ensures that buyers are fairly compensated in case of a sale cancellation, while also protecting sellers from unauthorized refunds\n",
    "\"\"\"\n",
    "\n",
    "A2 = \"\"\"\n",
    "A smart contract is a self-executing contract with the terms of the agreement between buyer and seller being directly written into lines of code. The code and the agreements contained therein exist across a distributed, decentralized blockchain network. The code controls the execution, and transactions are trackable and irreversible.\n",
    "\"\"\"\n",
    "\n",
    "A3 = \"\"\"\n",
    "I have a blockchain 3 business and I want to improve the efficiency of it by implementing smart contracts.\n",
    "\"\"\""
   ]
  },
  {
   "cell_type": "code",
   "execution_count": 4,
   "metadata": {},
   "outputs": [
    {
     "name": "stdout",
     "output_type": "stream",
     "text": [
      "True\n"
     ]
    }
   ],
   "source": [
    "import pydantic\n",
    "main_description = A1\n",
    "\n",
    "class IsAboutSmartContracts(pydantic.BaseModel):\n",
    "    parameter: bool\n",
    "\n",
    "class AssessTopic(dspy.Signature):\n",
    "    \"\"\"Verify that the description talks about Smart Contracts\"\"\"\n",
    "    description: str = dspy.InputField(desc=\"A description of a Smart Contract\")\n",
    "    output: IsAboutSmartContracts = dspy.OutputField(desc=\"True/False indicating if text is about Smart Contracts\")\n",
    "\n",
    "class VerifySmartContractTopic(dspy.Module):\n",
    "    \"\"\"A module to verify if the description is about Smart Contracts\"\"\"\n",
    "    def __init__(self):\n",
    "        super().__init__()\n",
    "        self.predictor = dspy.functional.TypedPredictor(AssessTopic)\n",
    "\n",
    "    def forward(self, description: str) -> IsAboutSmartContracts:\n",
    "        prediction = self.predictor(description=description)\n",
    "        return prediction.output.parameter\n",
    "\n",
    "# Example usage\n",
    "verifier = VerifySmartContractTopic()\n",
    "result = verifier.forward(main_description)\n",
    "print(result)"
   ]
  },
  {
   "cell_type": "code",
   "execution_count": 5,
   "metadata": {},
   "outputs": [
    {
     "name": "stdout",
     "output_type": "stream",
     "text": [
      "7\n"
     ]
    }
   ],
   "source": [
    "import pydantic\n",
    "description = A1\n",
    "\n",
    "# Pydantic model to define the output structure\n",
    "class OutputRate(pydantic.BaseModel):\n",
    "    parameter: int\n",
    "\n",
    "class Rate(dspy.Signature):\n",
    "    \"\"\"Rate the technical completeness of the smart contract description on a scale of 1 to 10\"\"\"\n",
    "    description: str = dspy.InputField(desc=\"A description of a Smart Contract\")\n",
    "    output: OutputRate = dspy.OutputField(desc=\"A rating from 1 to 10\")\n",
    "\n",
    "class RateModule(dspy.Module):\n",
    "    \"\"\"A module to rate the technical completeness of a smart contract description\"\"\"\n",
    "    def __init__(self):\n",
    "        super().__init__()\n",
    "        self.predictor = dspy.functional.TypedPredictor(Rate)\n",
    "\n",
    "    def rate_description(self, description: str) -> int:\n",
    "        prediction = self.predictor(description=description)\n",
    "        return prediction.output.parameter\n",
    "\n",
    "# Example usage of the module\n",
    "rate_module = RateModule()\n",
    "rating = rate_module.rate_description(main_description)\n",
    "print(rating)"
   ]
  },
  {
   "cell_type": "code",
   "execution_count": 8,
   "metadata": {},
   "outputs": [
    {
     "ename": "ImportError",
     "evalue": "cannot import name 'List' from 'pydantic' (g:\\Mi unidad\\SONY-GATEWAY\\MaLB-SC-generation-module\\.venv\\Lib\\site-packages\\pydantic\\__init__.py)",
     "output_type": "error",
     "traceback": [
      "\u001b[1;31m---------------------------------------------------------------------------\u001b[0m",
      "\u001b[1;31mImportError\u001b[0m                               Traceback (most recent call last)",
      "Cell \u001b[1;32mIn[8], line 2\u001b[0m\n\u001b[0;32m      1\u001b[0m \u001b[38;5;28;01mimport\u001b[39;00m \u001b[38;5;21;01mpydantic\u001b[39;00m\n\u001b[1;32m----> 2\u001b[0m \u001b[38;5;28;01mfrom\u001b[39;00m \u001b[38;5;21;01mpydantic\u001b[39;00m \u001b[38;5;28;01mimport\u001b[39;00m List\n\u001b[0;32m      3\u001b[0m description \u001b[38;5;241m=\u001b[39m A1\n\u001b[0;32m      5\u001b[0m \u001b[38;5;28;01mclass\u001b[39;00m \u001b[38;5;21;01mRequirementsList\u001b[39;00m(pydantic\u001b[38;5;241m.\u001b[39mBaseModel):\n",
      "\u001b[1;31mImportError\u001b[0m: cannot import name 'List' from 'pydantic' (g:\\Mi unidad\\SONY-GATEWAY\\MaLB-SC-generation-module\\.venv\\Lib\\site-packages\\pydantic\\__init__.py)"
     ]
    }
   ],
   "source": [
    "import pydantic\n",
    "from typing import List\n",
    "description = A1\n",
    "\n",
    "class RequirementsList(pydantic.BaseModel):\n",
    "    requirements: List[str]\n",
    "\n",
    "class extract_requirements(dspy.Signature):\n",
    "    \"\"\"Extract requirements from a Smart Contract Description\"\"\"\n",
    "    description: str = dspy.InputField(desc=\"A description of a Smart Contract\")\n",
    "    output: RequirementsList = dspy.OutputField(desc=\"A list object with extracted requirements\")\n",
    "\n",
    "class ExtractRequirements(dspy.Module):\n",
    "    \"\"\"A module to extract requirements from a Smart Contract Description\"\"\"\n",
    "    def __init__(self):\n",
    "        super().__init__()\n",
    "        self.predictor = dspy.functional.TypedPredictor(extract_requirements)\n",
    "\n",
    "    def forward(self, description: str) -> RequirementsList:\n",
    "        prediction = self.predictor(description=description)\n",
    "        return prediction.output.requirements\n",
    "\n",
    "req_module = ExtractRequirements()\n",
    "list_of_requirements = req_module.forward(main_description)\n",
    "print(list_of_requirements)\n"
   ]
  },
  {
   "cell_type": "code",
   "execution_count": 202,
   "metadata": {},
   "outputs": [
    {
     "name": "stdout",
     "output_type": "stream",
     "text": [
      "{'Name': 'CompensateBuyers', 'Scope': 'Refund process', 'Input': ['Buyer request', 'Sale status'], 'Constraints': 'Only seller can initiate refund process', 'Output': 'Fair compensation for buyers', 'PrimaryScenario': 'If sale in progress, buyer receives twice the initial value as refund if seller cancels sale. If sale not in progress, no refund issued.', 'AlternativeScenario': 'None'}\n"
     ]
    },
    {
     "name": "stdout",
     "output_type": "stream",
     "text": [
      "{'Name': 'Consider the current state of the sale when processing refunds', 'Scope': 'Refund process for buyers in a sale', 'Input': ['Buyer request for refund', 'Current state of the sale (in progress or cancelled)'], 'Constraints': 'Only seller is authorized to initiate the refund process', 'Output': 'Fair compensation for buyers in case of sale cancellation', 'PrimaryScenario': 'If sale is in progress, buyer receives a refund of twice the value they paid if seller decides not to proceed with the sale', 'AlternativeScenario': 'If sale is not in progress, no refund will be issued'}\n",
      "{'Name': 'Authorization for refund initiation', 'Scope': 'Seller authorization', 'Input': ['Buyer request', 'Sale status'], 'Constraints': 'Only seller is authorized', 'Output': 'Refund initiation', 'PrimaryScenario': 'Sale in progress: Buyer receives double the initial payment if sale is cancelled', 'AlternativeScenario': 'Sale not in progress: No refund issued'}\n",
      "{'Name': 'Refund Compensation', 'Scope': 'Smart contract refund process', 'Input': ['Buyer request', 'Sale status'], 'Constraints': 'Only seller can initiate refund process', 'Output': 'Twice the value of initial payment', 'PrimaryScenario': 'Sale is in progress and seller decides not to proceed', 'AlternativeScenario': 'Sale is not in progress'}\n",
      "{'Name': 'Refund Authorization', 'Scope': 'Sale refund process', 'Input': ['Buyer request', 'Sale status'], 'Constraints': 'Seller authorization required', 'Output': 'No refund issued', 'PrimaryScenario': 'Sale in progress, Seller decides not to proceed', 'AlternativeScenario': 'Sale not in progress'}\n"
     ]
    }
   ],
   "source": [
    "import pydantic\n",
    "from typing import List\n",
    "\n",
    "class Requirement(pydantic.BaseModel):\n",
    "    Name: str\n",
    "    Scope: str\n",
    "    Input: List[str]\n",
    "    Constraints: str\n",
    "    Output: str\n",
    "    PrimaryScenario: str\n",
    "    AlternativeScenario: str\n",
    "\n",
    "class generate_attributes(dspy.Signature):\n",
    "    \"\"\"Generate attributes for the given attribute description.\"\"\"\n",
    "    context: str = dspy.InputField(desc=\"Context of the requirement\")\n",
    "    requirement: str = dspy.InputField(desc=\"Requirement description\")\n",
    "    output: Requirement = dspy.OutputField(desc=\"Structured list of requirement attributes\")\n",
    "\n",
    "class GenerateAttributes(dspy.Module):\n",
    "    \"\"\"A module to process multiple requirement descriptions into structured JSON.\"\"\"\n",
    "\n",
    "    def __init__(self):\n",
    "        super().__init__()\n",
    "        self.predictor = dspy.functional.TypedPredictor(generate_attributes)\n",
    "    \n",
    "    def forward(self, context: str, requirement: str) -> Requirement:\n",
    "        prediction = self.predictor(context=context, requirement=requirement)\n",
    "        return prediction.output\n",
    "\n",
    "req_module = GenerateAttributes()\n",
    "# List of requirements has multiple strings inside.\n",
    "for req in list_of_requirements:\n",
    "    attributes = req_module.forward(main_description, req)\n",
    "    print(attributes.dict())"
   ]
  }
 ],
 "metadata": {
  "kernelspec": {
   "display_name": ".venv",
   "language": "python",
   "name": "python3"
  },
  "language_info": {
   "codemirror_mode": {
    "name": "ipython",
    "version": 3
   },
   "file_extension": ".py",
   "mimetype": "text/x-python",
   "name": "python",
   "nbconvert_exporter": "python",
   "pygments_lexer": "ipython3",
   "version": "3.11.1"
  }
 },
 "nbformat": 4,
 "nbformat_minor": 2
}
