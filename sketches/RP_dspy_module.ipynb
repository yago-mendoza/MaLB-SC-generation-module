{
 "cells": [
  {
   "cell_type": "code",
   "execution_count": 68,
   "metadata": {},
   "outputs": [],
   "source": [
    "# %load_ext autoreload\n",
    "# %autoreload 2\n",
    "\n",
    "# import sys\n",
    "# import os\n",
    "\n",
    "# try: # When on google Colab, let's clone the notebook so we download the cache.\n",
    "#     import google.colab\n",
    "#     repo_path = 'dspy'\n",
    "#     !git -C $repo_path pull origin || git clone https://github.com/stanfordnlp/dspy $repo_path\n",
    "# except:\n",
    "#     repo_path = '.'\n",
    "\n",
    "# if repo_path not in sys.path:\n",
    "#     sys.path.append(repo_path)\n",
    "\n",
    "# # Set up the cache for this notebook\n",
    "# os.environ[\"DSP_NOTEBOOK_CACHEDIR\"] = os.path.join(repo_path, 'cache')\n",
    "\n",
    "# import pkg_resources # Install the package if it's not installed\n",
    "# if not \"dspy-ai\" in {pkg.key for pkg in pkg_resources.working_set}:\n",
    "#     !pip install -U pip\n",
    "#     !pip install dspy-ai\n",
    "#     !pip install openai~=0.28.1\n",
    "#     # !pip install -e $repo_path"
   ]
  },
  {
   "cell_type": "code",
   "execution_count": 1,
   "metadata": {
    "metadata": {}
   },
   "outputs": [
    {
     "name": "stderr",
     "output_type": "stream",
     "text": [
      "g:\\Mi unidad\\SONY-GATEWAY\\MaLB-SC-generation-module\\.venv\\Lib\\site-packages\\tqdm\\auto.py:21: TqdmWarning: IProgress not found. Please update jupyter and ipywidgets. See https://ipywidgets.readthedocs.io/en/stable/user_install.html\n",
      "  from .autonotebook import tqdm as notebook_tqdm\n"
     ]
    }
   ],
   "source": [
    "import dspy\n",
    "import pydantic\n",
    "import numpy as np"
   ]
  },
  {
   "cell_type": "code",
   "execution_count": 2,
   "metadata": {},
   "outputs": [],
   "source": [
    "import random\n",
    "\n",
    "import pprint\n",
    "pprint = pprint.PrettyPrinter(indent=4).pprint"
   ]
  },
  {
   "cell_type": "code",
   "execution_count": 3,
   "metadata": {},
   "outputs": [],
   "source": [
    "gpt4_turbo = dspy.OpenAI(model='gpt-4-1106-preview', max_tokens=300)\n",
    "gpt3_turbo = dspy.OpenAI(model='gpt-3.5-turbo-1106', max_tokens=300, temperature=1)\n",
    "\n",
    "dspy.settings.configure(lm=gpt3_turbo, max_tokens=1024)"
   ]
  },
  {
   "cell_type": "markdown",
   "metadata": {},
   "source": [
    "# Assessing Subject"
   ]
  },
  {
   "cell_type": "markdown",
   "metadata": {},
   "source": [
    "### Retrieving Descriptions"
   ]
  },
  {
   "cell_type": "code",
   "execution_count": 64,
   "metadata": {},
   "outputs": [],
   "source": [
    "import json\n",
    "\n",
    "with open('../examples/off_topic_descriptions/data.json', 'r') as f1,\\\n",
    "     open('../examples/smart_contract_descriptions/data.json', 'r') as f2:\n",
    "    d1 = json.load(f1)\n",
    "    d2 = json.load(f2)\n",
    "\n",
    "ot_descriptions = [description for description in d1['descriptions']]\n",
    "\n",
    "sc_descriptions_q1 = [d2[key]['descriptions']['description_1'] for key in d2]\n",
    "# sc_descriptions_q2 = [d2[key]['descriptions']['description_1'] for key in d2]\n",
    "# sc_descriptions_q3 = [d2[key]['descriptions']['description_1'] for key in d2]\n",
    "# sc_descriptions_q4 = [d2[key]['descriptions']['description_1'] for key in d2]\n",
    "\n",
    "sc_descriptions = sc_descriptions_q1\n",
    "# sc_descriptions += sc_descriptions_q2\n",
    "# sc_descriptions += sc_descriptions_q3\n",
    "# sc_descriptions += sc_descriptions_q4\n",
    "\n",
    "def split_for_train_test(output_type=\"int\", test_size=2/5):\n",
    "\n",
    "    if output_type == \"int\":\n",
    "        negative_output = random.randint(0,2)\n",
    "        positive_output = random.randint(8,10)\n",
    "    elif output_type == \"bool\":\n",
    "        negative_output = False\n",
    "        positive_output = True\n",
    "\n",
    "    combined_descriptions = []\n",
    "    for description in ot_descriptions:\n",
    "        combined_descriptions.append((description, negative_output))\n",
    "    for description in sc_descriptions:\n",
    "        combined_descriptions.append((description, positive_output))\n",
    "\n",
    "    # Arguments must have the same name as Signature input/output\n",
    "    examples = [\n",
    "        dspy.Example(smart_contract_description=desc, boolean_assessment=is_valid).with_inputs(\"smart_contract_description\")\n",
    "        for desc, is_valid in combined_descriptions\n",
    "    ]\n",
    "\n",
    "    np.random.shuffle(examples)\n",
    "    split = int(len(examples) * (1 - test_size))\n",
    "\n",
    "    return examples[:split], examples[split:]\n",
    "\n",
    "# print(\"List of 'examples' for training: \")\n",
    "# pprint(examples_for_training)\n",
    "# print(\"\\nList of 'examples' for testing: \")\n",
    "# pprint(examples_for_testing)"
   ]
  },
  {
   "cell_type": "markdown",
   "metadata": {},
   "source": [
    "### True/False Labeling"
   ]
  },
  {
   "cell_type": "code",
   "execution_count": 70,
   "metadata": {},
   "outputs": [
    {
     "name": "stderr",
     "output_type": "stream",
     "text": [
      "  0%|          | 0/18 [00:00<?, ?it/s]"
     ]
    },
    {
     "name": "stderr",
     "output_type": "stream",
     "text": [
      "100%|██████████| 18/18 [00:18<00:00,  1.02s/it]\n"
     ]
    },
    {
     "name": "stdout",
     "output_type": "stream",
     "text": [
      "Average Metric: 11 / 12  (91.7): 100%|██████████| 12/12 [00:15<00:00,  1.26s/it]\n"
     ]
    },
    {
     "data": {
      "text/html": [
       "<style type=\"text/css\">\n",
       "#T_2c6ec th {\n",
       "  text-align: left;\n",
       "}\n",
       "#T_2c6ec td {\n",
       "  text-align: left;\n",
       "}\n",
       "#T_2c6ec_row0_col0, #T_2c6ec_row0_col1, #T_2c6ec_row0_col2, #T_2c6ec_row0_col3, #T_2c6ec_row0_col4 {\n",
       "  text-align: left;\n",
       "  white-space: pre-wrap;\n",
       "  word-wrap: break-word;\n",
       "  max-width: 400px;\n",
       "}\n",
       "</style>\n",
       "<table id=\"T_2c6ec\">\n",
       "  <thead>\n",
       "    <tr>\n",
       "      <th class=\"blank level0\" >&nbsp;</th>\n",
       "      <th id=\"T_2c6ec_level0_col0\" class=\"col_heading level0 col0\" >smart_contract_description</th>\n",
       "      <th id=\"T_2c6ec_level0_col1\" class=\"col_heading level0 col1\" >example_boolean_assessment</th>\n",
       "      <th id=\"T_2c6ec_level0_col2\" class=\"col_heading level0 col2\" >reasoning</th>\n",
       "      <th id=\"T_2c6ec_level0_col3\" class=\"col_heading level0 col3\" >pred_boolean_assessment</th>\n",
       "      <th id=\"T_2c6ec_level0_col4\" class=\"col_heading level0 col4\" >metric</th>\n",
       "    </tr>\n",
       "  </thead>\n",
       "  <tbody>\n",
       "    <tr>\n",
       "      <th id=\"T_2c6ec_level0_row0\" class=\"row_heading level0 row0\" >0</th>\n",
       "      <td id=\"T_2c6ec_row0_col0\" class=\"data row0 col0\" >The Digital Canvas initiative leverages the concept of programmable interactions, much like a smart contract, but for artists and galleries. The platform allows digital creators...</td>\n",
       "      <td id=\"T_2c6ec_row0_col1\" class=\"data row0 col1\" >False</td>\n",
       "      <td id=\"T_2c6ec_row0_col2\" class=\"data row0 col2\" >produce the boolean assessment. We need to consider whether the text provides a detailed engineer's functional description of how a particular smart contract is designed...</td>\n",
       "      <td id=\"T_2c6ec_row0_col3\" class=\"data row0 col3\" >False</td>\n",
       "      <td id=\"T_2c6ec_row0_col4\" class=\"data row0 col4\" >✔️ [True]</td>\n",
       "    </tr>\n",
       "  </tbody>\n",
       "</table>\n"
      ],
      "text/plain": [
       "<pandas.io.formats.style.Styler at 0x1cb2338b890>"
      ]
     },
     "metadata": {},
     "output_type": "display_data"
    },
    {
     "data": {
      "text/html": [
       "\n",
       "                <div style='\n",
       "                    text-align: center;\n",
       "                    font-size: 16px;\n",
       "                    font-weight: bold;\n",
       "                    color: #555;\n",
       "                    margin: 10px 0;'>\n",
       "                    ... 11 more rows not displayed ...\n",
       "                </div>\n",
       "                "
      ],
      "text/plain": [
       "<IPython.core.display.HTML object>"
      ]
     },
     "metadata": {},
     "output_type": "display_data"
    },
    {
     "data": {
      "text/plain": [
       "91.67"
      ]
     },
     "execution_count": 70,
     "metadata": {},
     "output_type": "execute_result"
    }
   ],
   "source": [
    "verbose_output = False # during training and assessment\n",
    "examples_for_training, examples_for_testing = split_for_train_test(\"bool\")\n",
    "\n",
    "class AssessSubject(dspy.Signature):\n",
    "    \"\"\"Does the text delivers a detailed engineer's functional description of how one particular smart contract is designed to work programmatically post-deployment?\"\"\"\n",
    "    smart_contract_description: str = dspy.InputField(desc=\"A description of a Smart Contract\")\n",
    "    boolean_assessment: bool = dspy.OutputField(desc=\"True/False indicating if text is about Smart Contracts\")\n",
    "\n",
    "class AssessSubjectModule(dspy.Module):\n",
    "    \"\"\"A module to verify if the description consists of a precise functional description of how a specific smart contract should work.\"\"\"\n",
    "    def __init__(self):\n",
    "        super().__init__()\n",
    "        self.generate_answer = dspy.functional.TypedChainOfThought(AssessSubject)\n",
    "\n",
    "    def forward(self, smart_contract_description: str) -> bool:\n",
    "        # It cannot be the boolean_assessment output parameter directly, or the teleprompting won't work.\n",
    "        return self.generate_answer(smart_contract_description=smart_contract_description)\n",
    "\n",
    "def metric(example, prediction, trace=None):\n",
    "\n",
    "    if verbose_output:\n",
    "        print(f\"Defined function 'metric' called on\\n{' '*4}{example}\")\n",
    "        print(f\"Generated prediction is\\n{' '*4}{prediction.reasoning}\")\n",
    "        print(f\"{' '*4}>> Real-value/Predicted-value : {example.boolean_assessment} | {prediction.boolean_assessment}\\n\")\n",
    "        \n",
    "    return example.boolean_assessment == prediction.boolean_assessment # TODO: Moved from the forward prediction return\n",
    "\n",
    "from dspy.teleprompt import BootstrapFewShot\n",
    "config = dict(max_bootstrapped_demos=len(examples_for_training)) # max_labeled_demos=4\n",
    "teleprompter = BootstrapFewShot(metric=metric, **config)\n",
    "teleprompter.max_errors = 0\n",
    "optimised_program = teleprompter.compile(AssessSubjectModule(), trainset=examples_for_training, valset=examples_for_testing)\n",
    "# It doesnt use 'valset' for training (run in Jupyter loads automatically even if changed)\n",
    "\n",
    "from dspy.evaluate import Evaluate\n",
    "evaluate_program = Evaluate(metric=metric, devset=examples_for_testing, num_threads=1, display_progress=True, display_table=1)\n",
    "evaluate_program(optimised_program)\n",
    "# FIXME: argument 'bool' type is not iterable (for Evaluate); weird stuff."
   ]
  },
  {
   "cell_type": "code",
   "execution_count": 66,
   "metadata": {},
   "outputs": [
    {
     "data": {
      "text/plain": [
       "Prediction(\n",
       "    reasoning=\"produce the boolean assessment. We would need to determine if the text is delivering a detailed engineer's functional description of how a specific smart contract is designed to work programmatically post-deployment. Based on the provided reasoning, the assessment is false as the text does not provide a detailed smart contract description.\",\n",
       "    boolean_assessment=False\n",
       ")"
      ]
     },
     "execution_count": 66,
     "metadata": {},
     "output_type": "execute_result"
    }
   ],
   "source": [
    "optimised_program.forward(\"Estoy fingiendo ser una smart contract description\")\n"
   ]
  },
  {
   "cell_type": "markdown",
   "metadata": {},
   "source": [
    "### 1-10 Labeling"
   ]
  },
  {
   "cell_type": "code",
   "execution_count": 71,
   "metadata": {},
   "outputs": [],
   "source": [
    "verbose_output = False # during training and assessment\n",
    "examples_for_training, examples_for_testing = split_for_train_test(\"int\")"
   ]
  },
  {
   "cell_type": "code",
   "execution_count": 79,
   "metadata": {},
   "outputs": [
    {
     "name": "stderr",
     "output_type": "stream",
     "text": [
      "100%|██████████| 18/18 [00:17<00:00,  1.01it/s]\n"
     ]
    },
    {
     "name": "stdout",
     "output_type": "stream",
     "text": [
      "Average Metric: 12 / 12  (100.0): 100%|██████████| 12/12 [00:14<00:00,  1.23s/it]\n"
     ]
    },
    {
     "data": {
      "text/html": [
       "<style type=\"text/css\">\n",
       "#T_43f76 th {\n",
       "  text-align: left;\n",
       "}\n",
       "#T_43f76 td {\n",
       "  text-align: left;\n",
       "}\n",
       "#T_43f76_row0_col0, #T_43f76_row0_col1, #T_43f76_row0_col2, #T_43f76_row0_col3, #T_43f76_row0_col4 {\n",
       "  text-align: left;\n",
       "  white-space: pre-wrap;\n",
       "  word-wrap: break-word;\n",
       "  max-width: 400px;\n",
       "}\n",
       "</style>\n",
       "<table id=\"T_43f76\">\n",
       "  <thead>\n",
       "    <tr>\n",
       "      <th class=\"blank level0\" >&nbsp;</th>\n",
       "      <th id=\"T_43f76_level0_col0\" class=\"col_heading level0 col0\" >smart_contract_description</th>\n",
       "      <th id=\"T_43f76_level0_col1\" class=\"col_heading level0 col1\" >example_boolean_assessment</th>\n",
       "      <th id=\"T_43f76_level0_col2\" class=\"col_heading level0 col2\" >reasoning</th>\n",
       "      <th id=\"T_43f76_level0_col3\" class=\"col_heading level0 col3\" >pred_boolean_assessment</th>\n",
       "      <th id=\"T_43f76_level0_col4\" class=\"col_heading level0 col4\" >metric</th>\n",
       "    </tr>\n",
       "  </thead>\n",
       "  <tbody>\n",
       "    <tr>\n",
       "      <th id=\"T_43f76_level0_row0\" class=\"row_heading level0 row0\" >0</th>\n",
       "      <td id=\"T_43f76_row0_col0\" class=\"data row0 col0\" >The Smart Scheduler for conference management could draw from the principles of smart contracts to automate the planning and execution of events. Based on predefined...</td>\n",
       "      <td id=\"T_43f76_row0_col1\" class=\"data row0 col1\" >0</td>\n",
       "      <td id=\"T_43f76_row0_col2\" class=\"data row0 col2\" >produce the boolean assessment. We would need to provide a detailed engineers's functional smart contract description that includes specific details about how the Smart Scheduler...</td>\n",
       "      <td id=\"T_43f76_row0_col3\" class=\"data row0 col3\" >0</td>\n",
       "      <td id=\"T_43f76_row0_col4\" class=\"data row0 col4\" >✔️ [True]</td>\n",
       "    </tr>\n",
       "  </tbody>\n",
       "</table>\n"
      ],
      "text/plain": [
       "<pandas.io.formats.style.Styler at 0x1cb237f4890>"
      ]
     },
     "metadata": {},
     "output_type": "display_data"
    },
    {
     "data": {
      "text/html": [
       "\n",
       "                <div style='\n",
       "                    text-align: center;\n",
       "                    font-size: 16px;\n",
       "                    font-weight: bold;\n",
       "                    color: #555;\n",
       "                    margin: 10px 0;'>\n",
       "                    ... 11 more rows not displayed ...\n",
       "                </div>\n",
       "                "
      ],
      "text/plain": [
       "<IPython.core.display.HTML object>"
      ]
     },
     "metadata": {},
     "output_type": "display_data"
    },
    {
     "data": {
      "text/plain": [
       "100.0"
      ]
     },
     "execution_count": 79,
     "metadata": {},
     "output_type": "execute_result"
    }
   ],
   "source": [
    "class AssessSubject(dspy.Signature):\n",
    "    \"\"\"To which degree are these descriptions oriented to describe a smart contract for implementation and production?\"\"\"\n",
    "    smart_contract_description: str = dspy.InputField(desc=\"A description of a Smart Contract\")\n",
    "    boolean_assessment: int = dspy.OutputField(desc=\"1-10 rating indicating if text is a detailed engineers's functional smart contract description\")\n",
    "\n",
    "class AssessSubjectModule(dspy.Module):\n",
    "    \"\"\"A module to verify if the description consists of a precise functional description of how a specific smart contract should work.\"\"\"\n",
    "    def __init__(self):\n",
    "        super().__init__()\n",
    "        self.generate_answer = dspy.functional.TypedChainOfThought(AssessSubject)\n",
    "\n",
    "    def forward(self, smart_contract_description: str) -> int:\n",
    "        # It cannot be the boolean_assessment output parameter directly, or the teleprompting won't work.\n",
    "        return self.generate_answer(smart_contract_description=smart_contract_description)\n",
    "\n",
    "def metric(example, prediction, trace=None):\n",
    "\n",
    "    if verbose_output:\n",
    "        print(f\"Defined function 'metric' called on\\n{' '*4}{example}\")\n",
    "        print(f\"Generated prediction is\\n{' '*4}{prediction.reasoning}\")\n",
    "        print(f\"{' '*4}>> Real-value/Predicted-value : {example.boolean_assessment} | {prediction.boolean_assessment}\\n\")\n",
    "        \n",
    "    return example.boolean_assessment == prediction.boolean_assessment # TODO: Moved from the forward prediction return\n",
    "\n",
    "from dspy.teleprompt import BootstrapFewShot\n",
    "config = dict(max_bootstrapped_demos=len(examples_for_training)) # max_labeled_demos=4\n",
    "teleprompter = BootstrapFewShot(metric=metric, **config)\n",
    "teleprompter.max_errors = 0\n",
    "optimised_program = teleprompter.compile(AssessSubjectModule(), trainset=examples_for_training, valset=examples_for_testing)\n",
    "# It doesnt use 'valset' for training (run in Jupyter loads automatically even if changed)\n",
    "\n",
    "from dspy.evaluate import Evaluate\n",
    "evaluate_program = Evaluate(metric=metric, devset=examples_for_testing, num_threads=1, display_progress=True, display_table=1)\n",
    "evaluate_program(optimised_program)\n",
    "# FIXME: argument 'bool' type is not iterable (for Evaluate); weird stuff."
   ]
  },
  {
   "cell_type": "markdown",
   "metadata": {},
   "source": [
    "# Requirement Generation"
   ]
  },
  {
   "cell_type": "markdown",
   "metadata": {},
   "source": [
    "### Retrieving description-requirement pairs"
   ]
  },
  {
   "cell_type": "code",
   "execution_count": null,
   "metadata": {},
   "outputs": [],
   "source": [
    "import json\n",
    "\n",
    "with open('../examples/off_topic_descriptions/data.json', 'r') as f1,\\\n",
    "     open('../examples/smart_contract_descriptions/data.json', 'r') as f2:\n",
    "    d1 = json.load(f1)\n",
    "    d2 = json.load(f2)\n",
    "\n",
    "ot_descriptions = [description for description in d1['descriptions']]\n",
    "\n",
    "sc_descriptions_q1 = [d2[key]['descriptions']['description_1'] for key in d2]\n",
    "# sc_descriptions_q2 = [d2[key]['descriptions']['description_1'] for key in d2]\n",
    "# sc_descriptions_q3 = [d2[key]['descriptions']['description_1'] for key in d2]\n",
    "# sc_descriptions_q4 = [d2[key]['descriptions']['description_1'] for key in d2]\n",
    "\n",
    "sc_descriptions = sc_descriptions_q1\n",
    "# sc_descriptions += sc_descriptions_q2\n",
    "# sc_descriptions += sc_descriptions_q3\n",
    "# sc_descriptions += sc_descriptions_q4\n",
    "\n",
    "def split_for_train_test(output_type=\"int\", test_size=2/5):\n",
    "\n",
    "    if output_type == \"int\":\n",
    "        negative_output = random.randint(0,2)\n",
    "        positive_output = random.randint(8,10)\n",
    "    elif output_type == \"bool\":\n",
    "        negative_output = False\n",
    "        positive_output = True\n",
    "\n",
    "    combined_descriptions = []\n",
    "    for description in ot_descriptions:\n",
    "        combined_descriptions.append((description, negative_output))\n",
    "    for description in sc_descriptions:\n",
    "        combined_descriptions.append((description, positive_output))\n",
    "\n",
    "    # Arguments must have the same name as Signature input/output\n",
    "    examples = [\n",
    "        dspy.Example(smart_contract_description=desc, boolean_assessment=is_valid).with_inputs(\"smart_contract_description\")\n",
    "        for desc, is_valid in combined_descriptions\n",
    "    ]\n",
    "\n",
    "    np.random.shuffle(examples)\n",
    "    split = int(len(examples) * (1 - test_size))\n",
    "\n",
    "    return examples[:split], examples[split:]\n",
    "\n",
    "# print(\"List of 'examples' for training: \")\n",
    "# pprint(examples_for_training)\n",
    "# print(\"\\nList of 'examples' for testing: \")\n",
    "# pprint(examples_for_testing)"
   ]
  },
  {
   "cell_type": "code",
   "execution_count": 75,
   "metadata": {},
   "outputs": [
    {
     "name": "stdout",
     "output_type": "stream",
     "text": [
      "['Implement a blockchain contract to manage 50,000 tokens for a concert', 'Each token represents one ticket', 'Users can purchase one ticket each', 'Golden status users can buy up to three tickets to transfer to others', 'Ticket sales divided into two phases', 'First phase lasts 5 minutes', 'Second phase is triggered one week after the first phase ends', 'Compensation for cancelled event includes extra 25% for Golden ticket holders, 5% for Platinum, and no extra for Bronze']\n"
     ]
    }
   ],
   "source": [
    "import pydantic\n",
    "from typing import List\n",
    "\n",
    "class ExtractRequirements(dspy.Signature):\n",
    "    \"\"\"Extract requirements from a Smart Contract Description\"\"\"\n",
    "    smart_contract_description: str = dspy.InputField(desc=\"A description of a Smart Contract\")\n",
    "    requirements_list: List[str] = dspy.OutputField(desc=\"A list object with extracted requirements\")\n",
    "\n",
    "class ExtractRequirementsModule(dspy.Module):\n",
    "    \"\"\"A module to extract requirements from a Smart Contract Description\"\"\"\n",
    "    def __init__(self):\n",
    "        super().__init__()\n",
    "        self.generate_answer = dspy.functional.TypedPredictor(ExtractRequirements)\n",
    "\n",
    "    def forward(self, description: str) -> List[str]:\n",
    "        pred = self.generate_answer(smart_contract_description=description)\n",
    "        return pred.requirements_list\n",
    "\n",
    "module = ExtractRequirementsModule()\n",
    "list_of_requirements = module.forward(description)\n",
    "print(list_of_requirements)\n",
    "\n",
    "# gpt3_turbo.inspect_history(n=1)"
   ]
  },
  {
   "cell_type": "code",
   "execution_count": 42,
   "metadata": {},
   "outputs": [
    {
     "name": "stdout",
     "output_type": "stream",
     "text": [
      "{'Name': 'Buyer Refund Request', 'Scope': 'Smart contract for refund process', 'Input': ['Buyer request', 'Sale status'], 'Constraints': 'Only seller can initiate refund process', 'Output': 'Fair compensation for buyer', 'PrimaryScenario': 'If sale in progress, refund of twice the initial value', 'AlternativeScenario': 'No refund if sale not in progress'}\n",
      "{'Name': 'Compensation based on current state of sale', 'Scope': 'Smart contract refund process', 'Input': ['Buyer request for refund', 'Current state of the sale (in progress or cancelled)'], 'Constraints': 'Only seller authorized to initiate refund process', 'Output': 'Fair compensation for buyer if sale is cancelled', 'PrimaryScenario': 'If sale is in progress and seller decides not to proceed, buyer receives a refund of twice the value paid initially', 'AlternativeScenario': 'No refund issued if sale is not in progress'}\n",
      "{'Name': 'Seller Authorization for Refund Initiation', 'Scope': 'Smart Contract for Buyer Refunds', 'Input': ['Buyer request for refund', 'Current state of the sale (in progress or cancelled)'], 'Constraints': 'Only the seller is authorized to initiate the refund process', 'Output': 'Fair compensation for the buyer in case of sale cancellation', 'PrimaryScenario': 'If the sale is in progress and the seller decides not to proceed, the buyer should receive a refund of twice the value they paid initially', 'AlternativeScenario': 'If the sale is not in progress, no refund will be issued'}\n",
      "{'Name': 'Refund Calculation', 'Scope': 'Smart Contract', 'Input': ['Buyer request for refund', 'Current state of sale'], 'Constraints': 'Seller authorization required, sale must be in progress', 'Output': 'Refund amount', 'PrimaryScenario': 'If sale is in progress, refund should be twice the initial value paid by the buyer', 'AlternativeScenario': 'If sale is not in progress, no refund will be issued'}\n",
      "{'Name': 'Refund Policy', 'Scope': 'Smart Contract', 'Input': [], 'Constraints': 'Sale must be in progress for refund to be issued', 'Output': 'Refund amount', 'PrimaryScenario': 'If sale is in progress and seller decides not to proceed, buyer receives a refund of twice the initial value', 'AlternativeScenario': 'If sale is not in progress, no refund will be issued'}\n"
     ]
    }
   ],
   "source": [
    "import pydantic\n",
    "from typing import List\n",
    "\n",
    "class Requirement(pydantic.BaseModel):\n",
    "    Name: str\n",
    "    Scope: str\n",
    "    Input: List[str]\n",
    "    Constraints: str\n",
    "    Output: str\n",
    "    PrimaryScenario: str\n",
    "    AlternativeScenario: str\n",
    "\n",
    "class generate_attributes(dspy.Signature):\n",
    "    \"\"\"Generate attributes for the given attribute description.\"\"\"\n",
    "    smart_contract_description: str = dspy.InputField(desc=\"Context of the requirement\")\n",
    "    requirement_description: str = dspy.InputField()\n",
    "    structured_requirement: Requirement = dspy.OutputField(desc=\"Structured list of requirement attributes\")\n",
    "\n",
    "class GenerateAttributesModule(dspy.Module):\n",
    "    \"\"\"A module to process multiple requirement descriptions into structured JSON.\"\"\"\n",
    "\n",
    "    def __init__(self):\n",
    "        super().__init__()\n",
    "        self.generate_answer = dspy.functional.TypedPredictor(generate_attributes)\n",
    "    \n",
    "    def forward(self, description: str, requirement: str) -> Requirement:\n",
    "        pred = self.generate_answer(\n",
    "            smart_contract_description=description,\n",
    "            requirement_description=requirement\n",
    "            )\n",
    "        return pred.structured_requirement\n",
    "\n",
    "req_module = GenerateAttributesModule()\n",
    "# List of requirements has multiple strings inside.\n",
    "for requirement in list_of_requirements:\n",
    "    attributes = req_module.forward(description, requirement)\n",
    "    print(attributes.dict())\n",
    "\n",
    "# gpt3_turbo.inspect_history(n=1)"
   ]
  }
 ],
 "metadata": {
  "kernelspec": {
   "display_name": ".venv",
   "language": "python",
   "name": "python3"
  },
  "language_info": {
   "codemirror_mode": {
    "name": "ipython",
    "version": 3
   },
   "file_extension": ".py",
   "mimetype": "text/x-python",
   "name": "python",
   "nbconvert_exporter": "python",
   "pygments_lexer": "ipython3",
   "version": "3.11.1"
  }
 },
 "nbformat": 4,
 "nbformat_minor": 2
}
