{
 "cells": [
  {
   "cell_type": "code",
   "execution_count": null,
   "metadata": {},
   "outputs": [
    {
     "name": "stderr",
     "output_type": "stream",
     "text": [
      "g:\\Mi unidad\\SONY-GATEWAY\\MaLB-SC-generation-module\\.venv\\Lib\\site-packages\\tqdm\\auto.py:21: TqdmWarning: IProgress not found. Please update jupyter and ipywidgets. See https://ipywidgets.readthedocs.io/en/stable/user_install.html\n",
      "  from .autonotebook import tqdm as notebook_tqdm\n"
     ]
    }
   ],
   "source": [
    "%load_ext autoreload\n",
    "%autoreload 2\n",
    "\n",
    "import sys\n",
    "import os\n",
    "\n",
    "try: # When on google Colab, let's clone the notebook so we download the cache.\n",
    "    import google.colab\n",
    "    repo_path = 'dspy'\n",
    "    !git -C $repo_path pull origin || git clone https://github.com/stanfordnlp/dspy $repo_path\n",
    "except:\n",
    "    repo_path = '.'\n",
    "\n",
    "if repo_path not in sys.path:\n",
    "    sys.path.append(repo_path)\n",
    "\n",
    "# Set up the cache for this notebook\n",
    "os.environ[\"DSP_NOTEBOOK_CACHEDIR\"] = os.path.join(repo_path, 'cache')\n",
    "\n",
    "import pkg_resources # Install the package if it's not installed\n",
    "if not \"dspy-ai\" in {pkg.key for pkg in pkg_resources.working_set}:\n",
    "    !pip install -U pip\n",
    "    !pip install dspy-ai\n",
    "    !pip install openai~=0.28.1\n",
    "    # !pip install -e $repo_path"
   ]
  },
  {
   "cell_type": "code",
   "execution_count": 13,
   "metadata": {
    "metadata": {}
   },
   "outputs": [],
   "source": [
    "import dspy\n",
    "import numpy as np"
   ]
  },
  {
   "cell_type": "code",
   "execution_count": 16,
   "metadata": {},
   "outputs": [],
   "source": [
    "import pprint\n",
    "pprint = pprint.PrettyPrinter(indent=4).pprint"
   ]
  },
  {
   "cell_type": "code",
   "execution_count": 14,
   "metadata": {},
   "outputs": [],
   "source": [
    "gpt4_turbo = dspy.OpenAI(model='gpt-4-1106-preview', max_tokens=300)\n",
    "gpt3_turbo = dspy.OpenAI(model='gpt-3.5-turbo-1106', max_tokens=300, temperature=1)\n",
    "\n",
    "dspy.settings.configure(lm=gpt3_turbo, max_tokens=1024)"
   ]
  },
  {
   "cell_type": "code",
   "execution_count": 17,
   "metadata": {},
   "outputs": [
    {
     "name": "stdout",
     "output_type": "stream",
     "text": [
      "List of 'examples' for training: \n",
      "[   Example({'description': 'Implement a blockchain contract to manage 50,000 tokens available for a concert, with each token representing one ticket. Users are limited to purchasing one ticket each, but those with Golden status can buy up to three tickets to transfer to other users. The ticket sales are divided into two phases. The first phase lasts for 5 minutes, and the second phase is triggered one week after the first one ends. If the event is cancelled, compensation includes an extra 25% for Golden ticket holders, 5% for Platinum, and no extra compensation for Bronze ticket holders.', 'valid': True}) (input_keys={'description'}),\n",
      "    Example({'description': 'In the realm of professional networking, a Virtual Handshake Protocol could mirror the functionalities of a smart contract by automating connections and endorsements based on pre-set criteria. This protocol, powered by machine learning algorithms, can analyze user profiles and match individuals with potential mentors, partners, or employers, streamlining the networking process while ensuring a high level of data integrity and user consent.', 'valid': False}) (input_keys={'description'}),\n",
      "    Example({'description': \"Design a smart contract to manage multiple subscription levels where fans pay a monthly fee in tokens to access exclusive content. Subscription levels include Basic (10 tokens/month), Premium (50 tokens/month), and Elite (100 tokens/month). Automatically deduct fees from a user's token balance every 30 days. If there are insufficient funds, the subscription is paused. Implement auto-renewal features, and if a subscription expires, access to exclusive content is immediately revoked until renewal.\", 'valid': True}) (input_keys={'description'}),\n",
      "    Example({'description': 'For the Fan Engagement Platform, design a ERC721 Smart Contract where fans can vote on various categories using tokens. Votes are weighted by the number of tokens held. Categories include Best Video, Best Fan Art, and Best Comment. Each category has its own voting function, where 1 token equals 1 vote. Fans can allocate tokens to different categories but must hold at least 10 tokens to participate. Voting is open for 30 days.', 'valid': True}) (input_keys={'description'}),\n",
      "    Example({'description': \"From a software development perspective, multiple stakeholders are involved in fan engagement platforms. Developers and project managers are crucial for overseeing the platform's architecture and ensuring that milestones are met. Designers focus on user experience and interface to make the platform appealing and easy to use. QA engineers ensure the software's reliability and security. Finally, content managers and marketing professionals play essential roles in curating engaging content and driving user growth.\", 'valid': False}) (input_keys={'description'}),\n",
      "    Example({'description': \"Loyalty 3.0 represents the next generation of loyalty programs, integrating gamification, big data analytics, and blockchain technology. This approach not only rewards transactions but also interaction and engagement, creating a more holistic view of loyalty that values a customer's entire relationship with a brand. By leveraging blockchain, Loyalty 3.0 can ensure that rewards are distributed fairly and transparently, enhancing trust and participation in the program.\", 'valid': False}) (input_keys={'description'}),\n",
      "    Example({'description': \"In urban development, a 'City Contract' system could automate zoning and land use decisions based on real-time data and community input, much like a smart contract executes terms based on the blockchain. This would facilitate more dynamic urban planning and ensure compliance with environmental and societal needs.\", 'valid': False}) (input_keys={'description'}),\n",
      "    Example({'description': \"Educational platforms are exploring avenues similar to smart contracts for automating the issuance of certificates and managing course enrollments. By using predefined criteria, these platforms can autonomously verify a student's achievements and issue certificates without manual intervention. This system enhances the reliability of educational credentials and simplifies administrative processes.\", 'valid': False}) (input_keys={'description'}),\n",
      "    Example({'description': 'Design a smart contract that tracks and rates fan interactions for each content piece. Fans earn points that influence their ranking on the platform, with interactions categorized as likes, comments, shares, and views. Each interaction type carries different weightings (1 point for likes, 10 points for shares, 20 points for comments). Fans can earn a maximum of 100 points per day from each activity. Platinum and Gold tier members can earn up to 150 and 200 points, respectively, but the extra points expire after a week.', 'valid': True}) (input_keys={'description'}),\n",
      "    Example({'description': 'Implement an ERC-721-based smart contract for managing tiered VIP memberships, allowing fans to upgrade or downgrade their membership based on the tokens they hold. Define membership levels as Bronze, Silver, and Gold, each with associated perks. Upgrading requires the owner to have a sufficient number of additional tokens (100 tokens for Silver, 200 for Gold). Include functionality for members to voluntarily lower their level, refunding tokens proportionally based on their tenure on the platform (70% if >2 years, 50% if >1 year, 30% if >6 months). Once downgraded, a member must wait 12 days before upgrading again.', 'valid': True}) (input_keys={'description'}),\n",
      "    Example({'description': \"In the design world, the concept of a 'Design Compiler' could function similarly to how smart contracts are compiled. This tool would automatically transform high-level design ideas into detailed schematics and prototypes, streamlining the process from conception to creation, ensuring designers' original specifications are met accurately.\", 'valid': False}) (input_keys={'description'}),\n",
      "    Example({'description': 'Implement an ERC-721-based smart contract for auctioning limited VIP tickets to fans for a concert. Each ticket is represented as a unique token. Limit each address to bid a maximum of 3 times. Bids must be at least 5% higher than the current highest bid. Emit new highest bids and conclude when a time limit expires.', 'valid': True}) (input_keys={'description'}),\n",
      "    Example({'description': 'Imagine a digital marketing campaign that functions like a smart contract. Campaign elements are executed automatically based on audience engagement metrics. This could include the release of exclusive content when certain interaction thresholds are met, mimicking the conditional execution of smart contracts but applied to marketing strategies.', 'valid': False}) (input_keys={'description'}),\n",
      "    Example({'description': 'The Smart Scheduler for conference management could draw from the principles of smart contracts to automate the planning and execution of events. Based on predefined rules and participant feedback, sessions could be dynamically scheduled and resources allocated efficiently, ensuring optimal engagement and operational transparency.', 'valid': False}) (input_keys={'description'}),\n",
      "    Example({'description': 'Launching a successful fan engagement platform necessitates a robust business strategy. Initial funding might be sourced from venture capital, emphasizing the innovative use of blockchain to attract tech-savvy investors. Partnerships with prominent influencers or sports teams could drive initial user adoption, while a multi-tiered subscription model can sustain long-term revenue. Marketing strategies should focus on digital channels to tap into the tech-oriented audience, leveraging social media for brand visibility and engagement.', 'valid': False}) (input_keys={'description'}),\n",
      "    Example({'description': 'For the Fan Engagement Platform, design a ERC721 Smart Contract that rewards fans for referring friends, with bonuses based on the number of successful referrals. Successful referrals are counted when the referred friend creates an account and buys a ticket for an event. Bonuses include 10 tokens for 5 referrals, 30 tokens for 10, and 70 tokens for 20. Additionally, if a referred friend further refers others, the original referrer receives 150 tokens.', 'valid': True}) (input_keys={'description'}),\n",
      "    Example({'description': \"A futuristic 'Consent Ledger' in online platforms could function like a smart contract for privacy settings, automatically adjusting users' privacy based on their preferences and activities. This would enhance user trust and control, providing a transparent record of consent and changes over time, similar to the immutable nature of blockchain records.\", 'valid': False}) (input_keys={'description'})]\n",
      "\n",
      "List of 'examples' for testing: \n",
      "[   Example({'description': 'The Digital Canvas initiative leverages the concept of programmable interactions, much like a smart contract, but for artists and galleries. The platform allows digital creators to set up automated licensing agreements, ensuring their art is shared or sold under specific conditions. Just as blockchain technology records transactions, Digital Canvas maintains a digital ledger of all art transactions, providing transparency and security without the need for third-party oversight.', 'valid': False}) (input_keys={'description'}),\n",
      "    Example({'description': \"Why did the smart contract apply to law school? Because it wanted to pass the bar â€” except it failed when it couldn't handle a change in its terms without an update! Just like a smart contract on the blockchain, it strictly follows the rules laid out from the beginning and doesn't perform well when unexpected changes are thrown its way. Always double-check those conditions!\", 'valid': False}) (input_keys={'description'}),\n",
      "    Example({'description': 'Smart contract programming involves writing code that is deployed on a blockchain. The most popular language for this is Solidity, used primarily for Ethereum. Smart contracts are compiled by a special compiler designed to convert the high-level language into a lower-level language understood by the blockchain. For instance, the Solidity compiler (solc) transforms Solidity scripts into Ethereum Virtual Machine (EVM) bytecode, which can be executed on the Ethereum network, ensuring the contract performs exactly as written once deployed.', 'valid': False}) (input_keys={'description'}),\n",
      "    Example({'description': 'An automated feature rollout system in software development could employ mechanisms akin to those in smart contracts to ensure seamless and error-free deployment of new features across platforms. By establishing clear conditions for deployment and rollback strategies, this system could significantly reduce downtime and improve user experience.', 'valid': False}) (input_keys={'description'}),\n",
      "    Example({'description': 'Code binds agreement, Blocks chain truth in the ledger, Trust is automatic. Transactions secure, Ledger logs every action, Immutable trace. Contracts self-execute, Mistakes are past, trust in code, Blockchain does ensure.', 'valid': False}) (input_keys={'description'}),\n",
      "    Example({'description': 'Strategic implementation of digital contracts in the healthcare sector could revolutionize patient engagement and data management. By setting predefined terms for data access and patient care protocols, hospitals can automate many of their processes, similar to how smart contracts operate on blockchain platforms. This ensures compliance with regulations and consistency in patient care across multiple facilities.', 'valid': False}) (input_keys={'description'}),\n",
      "    Example({'description': 'For the Fan Engagement Platform, design a ERC721 Smart Contract to distribute rewards based on activity and token holdings at the end of each month. Fans with more than 200 tokens held and at least 50 activity points accumulated in a month qualify for rewards. Rewards consist of awarding 10% of held tokens as additional tokens. Distribution occurs automatically on the last day of each month, emitting an event.', 'valid': True}) (input_keys={'description'}),\n",
      "    Example({'description': 'The Culinary Code system operates on a platform that automates recipe adjustments based on ingredient availability and dietary preferences, mirroring the adaptability of smart contracts. Imagine a digital chef that dynamically modifies your dinner plans ensuring optimal nutrition and taste with the precision of blockchain-like technology.', 'valid': False}) (input_keys={'description'}),\n",
      "    Example({'description': 'Smart contracts offer transformative potential for fan engagement platforms by enabling automated, transparent interactions directly between fans and creators or sports teams. These self-executing contracts built on blockchain technology can manage voting mechanisms, merchandise sales, or exclusive content access without intermediary oversight. This not only reduces operational costs but also enhances trust, as fans can see exactly how their contributions are being used and benefit from an immutable ledger that records all transactions.', 'valid': False}) (input_keys={'description'})]\n"
     ]
    }
   ],
   "source": [
    "import json\n",
    "\n",
    "with open('..\\examples\\off_topic_descriptions\\data.json', 'r') as f1,\\\n",
    "     open('..\\examples\\smart_contract_descriptions\\data.json', 'r') as f2:\n",
    "    d1 = json.load(f1)\n",
    "    d2 = json.load(f2)\n",
    "\n",
    "OT_descriptions = [(description, False) for description in d1['descriptions']]\n",
    "SC_descriptions = []\n",
    "for key in d2:\n",
    "    SC_descriptions.append((d2[key]['descriptions']['description_1'], True))\n",
    "    # SC_descriptions.append((d2[key]['descriptions']['description_2'], True))\n",
    "    # SC_descriptions.append((d2[key]['descriptions']['description_3'], True))\n",
    "    # SC_descriptions.append((d2[key]['descriptions']['description_4'], True))\n",
    "combined_descriptions = OT_descriptions + SC_descriptions\n",
    "\n",
    "examples = [\n",
    "    dspy.Example(description=desc, valid=is_valid).with_inputs(\"description\")\n",
    "    for desc, is_valid in combined_descriptions\n",
    "]\n",
    "\n",
    "\n",
    "def split_for_train_test(values, test_size=1/3.0):\n",
    "    np.random.shuffle(values)\n",
    "    split = int(len(values) * (1 - test_size))\n",
    "    return values[:split], values[split:]\n",
    "\n",
    "examples_for_training, examples_for_testing = split_for_train_test(examples)\n",
    "\n",
    "print(\"List of 'examples' for training: \")\n",
    "pprint(examples_for_training)\n",
    "print(\"\\nList of 'examples' for testing: \")\n",
    "pprint(examples_for_testing)"
   ]
  },
  {
   "cell_type": "code",
   "execution_count": 52,
   "metadata": {},
   "outputs": [
    {
     "name": "stderr",
     "output_type": "stream",
     "text": [
      "  0%|          | 0/17 [00:00<?, ?it/s]"
     ]
    },
    {
     "name": "stdout",
     "output_type": "stream",
     "text": [
      "Defined function 'metric' called on\n",
      "    Example({'description': 'Implement a blockchain contract to manage 50,000 tokens available for a concert, with each token representing one ticket. Users are limited to purchasing one ticket each, but those with Golden status can buy up to three tickets to transfer to other users. The ticket sales are divided into two phases. The first phase lasts for 5 minutes, and the second phase is triggered one week after the first one ends. If the event is cancelled, compensation includes an extra 25% for Golden ticket holders, 5% for Platinum, and no extra compensation for Bronze ticket holders.', 'valid': True}) (input_keys={'description'})\n",
      "    >> Real-value/Predicted-value : True | True\n",
      "Defined function 'metric' called on\n",
      "    Example({'description': 'In the realm of professional networking, a Virtual Handshake Protocol could mirror the functionalities of a smart contract by automating connections and endorsements based on pre-set criteria. This protocol, powered by machine learning algorithms, can analyze user profiles and match individuals with potential mentors, partners, or employers, streamlining the networking process while ensuring a high level of data integrity and user consent.', 'valid': False}) (input_keys={'description'})\n",
      "    >> Real-value/Predicted-value : False | False\n",
      "Defined function 'metric' called on\n",
      "    Example({'description': \"Design a smart contract to manage multiple subscription levels where fans pay a monthly fee in tokens to access exclusive content. Subscription levels include Basic (10 tokens/month), Premium (50 tokens/month), and Elite (100 tokens/month). Automatically deduct fees from a user's token balance every 30 days. If there are insufficient funds, the subscription is paused. Implement auto-renewal features, and if a subscription expires, access to exclusive content is immediately revoked until renewal.\", 'valid': True}) (input_keys={'description'})\n",
      "    >> Real-value/Predicted-value : True | True\n",
      "Defined function 'metric' called on\n",
      "    Example({'description': 'For the Fan Engagement Platform, design a ERC721 Smart Contract where fans can vote on various categories using tokens. Votes are weighted by the number of tokens held. Categories include Best Video, Best Fan Art, and Best Comment. Each category has its own voting function, where 1 token equals 1 vote. Fans can allocate tokens to different categories but must hold at least 10 tokens to participate. Voting is open for 30 days.', 'valid': True}) (input_keys={'description'})\n",
      "    >> Real-value/Predicted-value : True | True\n",
      "Defined function 'metric' called on\n",
      "    Example({'description': \"From a software development perspective, multiple stakeholders are involved in fan engagement platforms. Developers and project managers are crucial for overseeing the platform's architecture and ensuring that milestones are met. Designers focus on user experience and interface to make the platform appealing and easy to use. QA engineers ensure the software's reliability and security. Finally, content managers and marketing professionals play essential roles in curating engaging content and driving user growth.\", 'valid': False}) (input_keys={'description'})\n",
      "    >> Real-value/Predicted-value : False | False\n",
      "Defined function 'metric' called on\n",
      "    Example({'description': \"Loyalty 3.0 represents the next generation of loyalty programs, integrating gamification, big data analytics, and blockchain technology. This approach not only rewards transactions but also interaction and engagement, creating a more holistic view of loyalty that values a customer's entire relationship with a brand. By leveraging blockchain, Loyalty 3.0 can ensure that rewards are distributed fairly and transparently, enhancing trust and participation in the program.\", 'valid': False}) (input_keys={'description'})\n",
      "    >> Real-value/Predicted-value : False | True\n",
      "Defined function 'metric' called on\n",
      "    Example({'description': \"In urban development, a 'City Contract' system could automate zoning and land use decisions based on real-time data and community input, much like a smart contract executes terms based on the blockchain. This would facilitate more dynamic urban planning and ensure compliance with environmental and societal needs.\", 'valid': False}) (input_keys={'description'})\n",
      "    >> Real-value/Predicted-value : False | True\n",
      "Defined function 'metric' called on\n",
      "    Example({'description': \"Educational platforms are exploring avenues similar to smart contracts for automating the issuance of certificates and managing course enrollments. By using predefined criteria, these platforms can autonomously verify a student's achievements and issue certificates without manual intervention. This system enhances the reliability of educational credentials and simplifies administrative processes.\", 'valid': False}) (input_keys={'description'})\n",
      "    >> Real-value/Predicted-value : False | True\n",
      "Defined function 'metric' called on\n",
      "    Example({'description': 'Design a smart contract that tracks and rates fan interactions for each content piece. Fans earn points that influence their ranking on the platform, with interactions categorized as likes, comments, shares, and views. Each interaction type carries different weightings (1 point for likes, 10 points for shares, 20 points for comments). Fans can earn a maximum of 100 points per day from each activity. Platinum and Gold tier members can earn up to 150 and 200 points, respectively, but the extra points expire after a week.', 'valid': True}) (input_keys={'description'})\n",
      "    >> Real-value/Predicted-value : True | True\n",
      "Defined function 'metric' called on\n",
      "    Example({'description': 'Implement an ERC-721-based smart contract for managing tiered VIP memberships, allowing fans to upgrade or downgrade their membership based on the tokens they hold. Define membership levels as Bronze, Silver, and Gold, each with associated perks. Upgrading requires the owner to have a sufficient number of additional tokens (100 tokens for Silver, 200 for Gold). Include functionality for members to voluntarily lower their level, refunding tokens proportionally based on their tenure on the platform (70% if >2 years, 50% if >1 year, 30% if >6 months). Once downgraded, a member must wait 12 days before upgrading again.', 'valid': True}) (input_keys={'description'})\n",
      "    >> Real-value/Predicted-value : True | True\n"
     ]
    },
    {
     "name": "stderr",
     "output_type": "stream",
     "text": [
      " 59%|█████▉    | 10/17 [00:00<00:00, 93.05it/s]"
     ]
    },
    {
     "name": "stdout",
     "output_type": "stream",
     "text": [
      "Defined function 'metric' called on\n",
      "    Example({'description': \"In the design world, the concept of a 'Design Compiler' could function similarly to how smart contracts are compiled. This tool would automatically transform high-level design ideas into detailed schematics and prototypes, streamlining the process from conception to creation, ensuring designers' original specifications are met accurately.\", 'valid': False}) (input_keys={'description'})\n",
      "    >> Real-value/Predicted-value : False | False\n",
      "Defined function 'metric' called on\n",
      "    Example({'description': 'Implement an ERC-721-based smart contract for auctioning limited VIP tickets to fans for a concert. Each ticket is represented as a unique token. Limit each address to bid a maximum of 3 times. Bids must be at least 5% higher than the current highest bid. Emit new highest bids and conclude when a time limit expires.', 'valid': True}) (input_keys={'description'})\n",
      "    >> Real-value/Predicted-value : True | True\n",
      "Defined function 'metric' called on\n",
      "    Example({'description': 'Imagine a digital marketing campaign that functions like a smart contract. Campaign elements are executed automatically based on audience engagement metrics. This could include the release of exclusive content when certain interaction thresholds are met, mimicking the conditional execution of smart contracts but applied to marketing strategies.', 'valid': False}) (input_keys={'description'})\n",
      "    >> Real-value/Predicted-value : False | False\n",
      "Defined function 'metric' called on\n",
      "    Example({'description': 'The Smart Scheduler for conference management could draw from the principles of smart contracts to automate the planning and execution of events. Based on predefined rules and participant feedback, sessions could be dynamically scheduled and resources allocated efficiently, ensuring optimal engagement and operational transparency.', 'valid': False}) (input_keys={'description'})\n",
      "    >> Real-value/Predicted-value : False | True\n",
      "Defined function 'metric' called on\n",
      "    Example({'description': 'Launching a successful fan engagement platform necessitates a robust business strategy. Initial funding might be sourced from venture capital, emphasizing the innovative use of blockchain to attract tech-savvy investors. Partnerships with prominent influencers or sports teams could drive initial user adoption, while a multi-tiered subscription model can sustain long-term revenue. Marketing strategies should focus on digital channels to tap into the tech-oriented audience, leveraging social media for brand visibility and engagement.', 'valid': False}) (input_keys={'description'})\n",
      "    >> Real-value/Predicted-value : False | False\n",
      "Defined function 'metric' called on\n",
      "    Example({'description': 'For the Fan Engagement Platform, design a ERC721 Smart Contract that rewards fans for referring friends, with bonuses based on the number of successful referrals. Successful referrals are counted when the referred friend creates an account and buys a ticket for an event. Bonuses include 10 tokens for 5 referrals, 30 tokens for 10, and 70 tokens for 20. Additionally, if a referred friend further refers others, the original referrer receives 150 tokens.', 'valid': True}) (input_keys={'description'})\n",
      "    >> Real-value/Predicted-value : True | True\n",
      "Defined function 'metric' called on\n",
      "    Example({'description': \"A futuristic 'Consent Ledger' in online platforms could function like a smart contract for privacy settings, automatically adjusting users' privacy based on their preferences and activities. This would enhance user trust and control, providing a transparent record of consent and changes over time, similar to the immutable nature of blockchain records.\", 'valid': False}) (input_keys={'description'})\n",
      "    >> Real-value/Predicted-value : False | True\n"
     ]
    },
    {
     "name": "stderr",
     "output_type": "stream",
     "text": [
      "100%|██████████| 17/17 [00:00<00:00, 88.95it/s]\n"
     ]
    }
   ],
   "source": [
    "import pydantic\n",
    "\n",
    "class IsAboutSmartContracts(pydantic.BaseModel):\n",
    "    parameter: bool\n",
    "\n",
    "class AssessSubject(dspy.Signature):\n",
    "    \"\"\"Verify that the text consist of a precise functional description of how a specific smart contract should work.\"\"\"\n",
    "    smart_contract_description: str = dspy.InputField(desc=\"A description of a Smart Contract\")\n",
    "    boolean_assessment: IsAboutSmartContracts = dspy.OutputField(desc=\"True/False indicating if text is about Smart Contracts\")\n",
    "\n",
    "class AssessSubjectModule(dspy.Module):\n",
    "    \"\"\"A module to verify if the description consists of a precise functional description of how a specific smart contract should work.\"\"\"\n",
    "    def __init__(self):\n",
    "        super().__init__()\n",
    "        self.generate_answer = dspy.functional.TypedChainOfThought(AssessSubject)\n",
    "\n",
    "    def forward(self, description: str) -> IsAboutSmartContracts:\n",
    "        pred = self.generate_answer(smart_contract_description=description)\n",
    "        return pred.boolean_assessment.parameter\n",
    "\n",
    "def metric(example, predicted, trace=None):\n",
    "    print(f\"Defined function 'metric' called on\\n{' '*4}{example}\")\n",
    "    print(f\"{' '*4}>> Real-value/Predicted-value : {example.valid} | {predicted}\")\n",
    "    return example.valid == predicted\n",
    "\n",
    "from dspy.teleprompt import BootstrapFewShot\n",
    "config = dict(max_bootstrapped_demos=len(examples_for_training)) # max_labeled_demos=4\n",
    "teleprompter = BootstrapFewShot(metric=metric, **config)\n",
    "teleprompter.max_errors = 0\n",
    "optimized_cot = teleprompter.compile(AssessSubjectModule(), trainset=examples_for_training)"
   ]
  },
  {
   "cell_type": "code",
   "execution_count": 55,
   "metadata": {},
   "outputs": [],
   "source": [
    "from dspy.evaluate import Evaluate\n",
    "evaluate = Evaluate(metric=metric, devset=examples_for_training, num_threads=1, display_progress=True, display_table=1)\n"
   ]
  },
  {
   "cell_type": "code",
   "execution_count": 70,
   "metadata": {},
   "outputs": [
    {
     "name": "stdout",
     "output_type": "stream",
     "text": [
      "8\n"
     ]
    },
    {
     "ename": "AttributeError",
     "evalue": "module 'dspy' has no attribute 'BootstrapFewShot'",
     "output_type": "error",
     "traceback": [
      "\u001b[1;31m---------------------------------------------------------------------------\u001b[0m",
      "\u001b[1;31mAttributeError\u001b[0m                            Traceback (most recent call last)",
      "Cell \u001b[1;32mIn[70], line 38\u001b[0m\n\u001b[0;32m     28\u001b[0m \u001b[38;5;66;03m# gpt3_turbo.inspect_history(n=1)\u001b[39;00m\n\u001b[0;32m     29\u001b[0m \n\u001b[0;32m     30\u001b[0m \n\u001b[0;32m     31\u001b[0m \u001b[38;5;66;03m### COMPILATION ########################################################################\u001b[39;00m\n\u001b[0;32m     32\u001b[0m \n\u001b[0;32m     33\u001b[0m \u001b[38;5;66;03m# must match \"forward\" function arguments\u001b[39;00m\n\u001b[0;32m     34\u001b[0m trainset \u001b[38;5;241m=\u001b[39m [\n\u001b[0;32m     35\u001b[0m     dspy\u001b[38;5;241m.\u001b[39mExample(smart_contract_description\u001b[38;5;241m=\u001b[39mdescription, complexity_score\u001b[38;5;241m=\u001b[39m\u001b[38;5;241m0\u001b[39m)\u001b[38;5;241m.\u001b[39mwith_inputs(\u001b[38;5;124m\"\u001b[39m\u001b[38;5;124mdescription\u001b[39m\u001b[38;5;124m\"\u001b[39m),\n\u001b[0;32m     36\u001b[0m ]\n\u001b[1;32m---> 38\u001b[0m teleprompter \u001b[38;5;241m=\u001b[39m \u001b[43mdspy\u001b[49m\u001b[38;5;241;43m.\u001b[39;49m\u001b[43mBootstrapFewShot\u001b[49m(metric\u001b[38;5;241m=\u001b[39mdspy\u001b[38;5;241m.\u001b[39mevaluate\u001b[38;5;241m.\u001b[39manswer_exact_match)\n\u001b[0;32m     39\u001b[0m compiled_rag \u001b[38;5;241m=\u001b[39m teleprompter\u001b[38;5;241m.\u001b[39mcompile(RateComplexityModule(), trainset\u001b[38;5;241m=\u001b[39mtrainset)\n\u001b[0;32m     41\u001b[0m \u001b[38;5;66;03m# # first_data_point = trainset[0]\u001b[39;00m\n\u001b[0;32m     42\u001b[0m \u001b[38;5;66;03m# # print(first_data_point.inputs())\u001b[39;00m\n\u001b[0;32m     43\u001b[0m \u001b[38;5;66;03m# # print(first_data_point.labels())\u001b[39;00m\n\u001b[1;32m   (...)\u001b[0m\n\u001b[0;32m     60\u001b[0m \u001b[38;5;66;03m#     dspy.Example(smart_contract_description=description, complexity_score=5).with_inputs(\"description\")\u001b[39;00m\n\u001b[0;32m     61\u001b[0m \u001b[38;5;66;03m# ]\u001b[39;00m\n",
      "\u001b[1;31mAttributeError\u001b[0m: module 'dspy' has no attribute 'BootstrapFewShot'"
     ]
    }
   ],
   "source": [
    "import pydantic\n",
    "\n",
    "# Pydantic model to define the output structure\n",
    "class OutputRate(pydantic.BaseModel):\n",
    "    parameter: int\n",
    "\n",
    "class RateCompexity(dspy.Signature):\n",
    "    \"\"\"Rate the technical completeness of the smart contract description on a scale of 1 to 10\"\"\"\n",
    "    smart_contract_description: str = dspy.InputField(desc=\"A description of a Smart Contract\")\n",
    "    complexity_score: OutputRate = dspy.OutputField(desc=\"A rating from 1 to 10\")\n",
    "\n",
    "class RateComplexityModule(dspy.Module):\n",
    "    \"\"\"A module to rate the technical completeness of a smart contract description\"\"\"\n",
    "    def __init__(self):\n",
    "        super().__init__()\n",
    "        self.generate_answer = dspy.functional.TypedChainOfThought(RateCompexity)\n",
    "\n",
    "    def forward(self, description: str) -> int:\n",
    "        pred = self.generate_answer(smart_contract_description=description)\n",
    "        return pred.complexity_score.parameter\n",
    "\n",
    "# Example usage of the module\n",
    "module = RateComplexityModule()\n",
    "rating = module.forward(description)\n",
    "print(rating)\n",
    "\n",
    "# gpt3_turbo.inspect_history(n=1)\n",
    "\n",
    "\n",
    "### COMPILATION ########################################################################\n",
    "\n",
    "# must match \"forward\" function arguments\n",
    "trainset = [\n",
    "    dspy.Example(smart_contract_description=description, complexity_score=0).with_inputs(\"description\"),\n",
    "]\n",
    "\n",
    "# first_data_point = trainset[0]\n",
    "# print(first_data_point.inputs())\n",
    "# print(first_data_point.labels())\n",
    "\n",
    "from dspy.teleprompt import BootstrapFewShot\n",
    "\n",
    "# Validation logic: check that the predicted answer is correct.\n",
    "def validate_assessment(example, pred, trace=None):\n",
    "    ### answer_EM = dspy.evaluate.answer_exact_match(smart_contract_description, complexity_score)\n",
    "    answer_match = example.complexity_score == pred.complexity_score\n",
    "    return answer_match\n",
    "\n",
    "teleprompter = BootstrapFewShot(metric=validate_assessment) # or dspy.evaluate.answer_exact_amtch\n",
    "compiled_module = teleprompter.compile(RateComplexityModule(), trainset=trainset)\n",
    "# compiled_module.save(\".\")\n",
    "# loaded_program = YOUR_PROGRAM_CLASS()\n",
    "# loaded_program.load(path=YOUR_SAVE_PATH)\n",
    "\n",
    "devset = [\n",
    "    dspy.Example(smart_contract_description=description, complexity_score=5).with_inputs(\"description\")\n",
    "]\n",
    "\n",
    "print('#')\n",
    "\n",
    "from dspy.evaluate import Evaluate\n",
    "\n",
    "# Set up the evaluator, which can be re-used in your code.\n",
    "evaluator = Evaluate(devset=devset, num_threads=1, display_progress=True, display_table=5)\n",
    "\n",
    "# Launch evaluation.\n",
    "evaluator(compiled_module, metric=validate_assessment)"
   ]
  },
  {
   "cell_type": "code",
   "execution_count": 57,
   "metadata": {},
   "outputs": [
    {
     "name": "stdout",
     "output_type": "stream",
     "text": [
      "['buyer request refund', 'compensation based on current state of sale (in progress or cancelled)', 'seller authorization for refund initiation', 'refund amount calculation based on sale state', 'no refund if sale is not in progress']\n"
     ]
    }
   ],
   "source": [
    "import pydantic\n",
    "from typing import List\n",
    "description = A1\n",
    "\n",
    "class RequirementsList(pydantic.BaseModel):\n",
    "    parameter: List[str]\n",
    "\n",
    "class ExtractRequirements(dspy.Signature):\n",
    "    \"\"\"Extract requirements from a Smart Contract Description\"\"\"\n",
    "    smart_contract_description: str = dspy.InputField(desc=\"A description of a Smart Contract\")\n",
    "    requirements_list: RequirementsList = dspy.OutputField(desc=\"A list object with extracted requirements\")\n",
    "\n",
    "class ExtractRequirementsModule(dspy.Module):\n",
    "    \"\"\"A module to extract requirements from a Smart Contract Description\"\"\"\n",
    "    def __init__(self):\n",
    "        super().__init__()\n",
    "        self.generate_answer = dspy.functional.TypedPredictor(ExtractRequirements)\n",
    "\n",
    "    def forward(self, description: str) -> RequirementsList:\n",
    "        pred = self.generate_answer(smart_contract_description=description)\n",
    "        return pred.requirements_list.parameter\n",
    "\n",
    "module = ExtractRequirementsModule()\n",
    "list_of_requirements = module.forward(description)\n",
    "print(list_of_requirements)\n",
    "\n",
    "# gpt3_turbo.inspect_history(n=1)"
   ]
  },
  {
   "cell_type": "code",
   "execution_count": 42,
   "metadata": {},
   "outputs": [
    {
     "name": "stdout",
     "output_type": "stream",
     "text": [
      "{'Name': 'Buyer Refund Request', 'Scope': 'Smart contract for refund process', 'Input': ['Buyer request', 'Sale status'], 'Constraints': 'Only seller can initiate refund process', 'Output': 'Fair compensation for buyer', 'PrimaryScenario': 'If sale in progress, refund of twice the initial value', 'AlternativeScenario': 'No refund if sale not in progress'}\n",
      "{'Name': 'Compensation based on current state of sale', 'Scope': 'Smart contract refund process', 'Input': ['Buyer request for refund', 'Current state of the sale (in progress or cancelled)'], 'Constraints': 'Only seller authorized to initiate refund process', 'Output': 'Fair compensation for buyer if sale is cancelled', 'PrimaryScenario': 'If sale is in progress and seller decides not to proceed, buyer receives a refund of twice the value paid initially', 'AlternativeScenario': 'No refund issued if sale is not in progress'}\n",
      "{'Name': 'Seller Authorization for Refund Initiation', 'Scope': 'Smart Contract for Buyer Refunds', 'Input': ['Buyer request for refund', 'Current state of the sale (in progress or cancelled)'], 'Constraints': 'Only the seller is authorized to initiate the refund process', 'Output': 'Fair compensation for the buyer in case of sale cancellation', 'PrimaryScenario': 'If the sale is in progress and the seller decides not to proceed, the buyer should receive a refund of twice the value they paid initially', 'AlternativeScenario': 'If the sale is not in progress, no refund will be issued'}\n",
      "{'Name': 'Refund Calculation', 'Scope': 'Smart Contract', 'Input': ['Buyer request for refund', 'Current state of sale'], 'Constraints': 'Seller authorization required, sale must be in progress', 'Output': 'Refund amount', 'PrimaryScenario': 'If sale is in progress, refund should be twice the initial value paid by the buyer', 'AlternativeScenario': 'If sale is not in progress, no refund will be issued'}\n",
      "{'Name': 'Refund Policy', 'Scope': 'Smart Contract', 'Input': [], 'Constraints': 'Sale must be in progress for refund to be issued', 'Output': 'Refund amount', 'PrimaryScenario': 'If sale is in progress and seller decides not to proceed, buyer receives a refund of twice the initial value', 'AlternativeScenario': 'If sale is not in progress, no refund will be issued'}\n"
     ]
    }
   ],
   "source": [
    "import pydantic\n",
    "from typing import List\n",
    "\n",
    "class Requirement(pydantic.BaseModel):\n",
    "    Name: str\n",
    "    Scope: str\n",
    "    Input: List[str]\n",
    "    Constraints: str\n",
    "    Output: str\n",
    "    PrimaryScenario: str\n",
    "    AlternativeScenario: str\n",
    "\n",
    "class generate_attributes(dspy.Signature):\n",
    "    \"\"\"Generate attributes for the given attribute description.\"\"\"\n",
    "    smart_contract_description: str = dspy.InputField(desc=\"Context of the requirement\")\n",
    "    requirement_description: str = dspy.InputField()\n",
    "    structured_requirement: Requirement = dspy.OutputField(desc=\"Structured list of requirement attributes\")\n",
    "\n",
    "class GenerateAttributesModule(dspy.Module):\n",
    "    \"\"\"A module to process multiple requirement descriptions into structured JSON.\"\"\"\n",
    "\n",
    "    def __init__(self):\n",
    "        super().__init__()\n",
    "        self.generate_answer = dspy.functional.TypedPredictor(generate_attributes)\n",
    "    \n",
    "    def forward(self, description: str, requirement: str) -> Requirement:\n",
    "        pred = self.generate_answer(\n",
    "            smart_contract_description=description,\n",
    "            requirement_description=requirement\n",
    "            )\n",
    "        return pred.structured_requirement\n",
    "\n",
    "req_module = GenerateAttributesModule()\n",
    "# List of requirements has multiple strings inside.\n",
    "for requirement in list_of_requirements:\n",
    "    attributes = req_module.forward(description, requirement)\n",
    "    print(attributes.dict())\n",
    "\n",
    "# gpt3_turbo.inspect_history(n=1)"
   ]
  }
 ],
 "metadata": {
  "kernelspec": {
   "display_name": ".venv",
   "language": "python",
   "name": "python3"
  },
  "language_info": {
   "codemirror_mode": {
    "name": "ipython",
    "version": 3
   },
   "file_extension": ".py",
   "mimetype": "text/x-python",
   "name": "python",
   "nbconvert_exporter": "python",
   "pygments_lexer": "ipython3",
   "version": "3.11.1"
  }
 },
 "nbformat": 4,
 "nbformat_minor": 2
}
